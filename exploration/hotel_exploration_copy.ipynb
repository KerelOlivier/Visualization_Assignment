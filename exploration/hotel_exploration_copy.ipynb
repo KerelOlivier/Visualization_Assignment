{
 "cells": [
  {
   "cell_type": "markdown",
   "metadata": {},
   "source": [
    "Compare the distribution of Airbnbs and other traditional accommodation types such as hotels."
   ]
  },
  {
   "cell_type": "markdown",
   "metadata": {},
   "source": [
    "data source: https://data.cityofnewyork.us/City-Government/Hotels-Properties-Citywide/tjus-cn27"
   ]
  },
  {
   "cell_type": "code",
   "execution_count": 62,
   "metadata": {},
   "outputs": [],
   "source": [
    "import warnings\n",
    "warnings.filterwarnings('ignore')\n",
    "import pandas as pd\n",
    "import numpy as np\n",
    "import seaborn as sns\n",
    "import matplotlib.pyplot as plt\n",
    "import sys\n",
    "%matplotlib inline"
   ]
  },
  {
   "cell_type": "code",
   "execution_count": 86,
   "metadata": {},
   "outputs": [],
   "source": [
    "df_hotel = pd.read_csv('../data/Hotels_Properties_Citywide.csv')"
   ]
  },
  {
   "cell_type": "code",
   "execution_count": null,
   "metadata": {},
   "outputs": [],
   "source": [
    "df_hotel.columns"
   ]
  },
  {
   "cell_type": "markdown",
   "metadata": {},
   "source": [
    "Description for columns:  \n",
    "\n",
    "'PARID': No description, Doesn't seem important  \n",
    "\n",
    "'BOROCODE': Don't need it because of 'Borough'  \n",
    "\n",
    "'BLOCK': Borough, Block, and Lot (BBL) is the parcel number system used to identify each unit of real estate in New York City for numerous city purposes. It consists of three numbers, separated by slashes; the borough, which is 1 digit; the block number, which is up to 5 digits; and the lot number, which is up to 4 digits.  \n",
    "\n",
    "'LOT'  \n",
    "\n",
    "'TAXYEAR': An annual accounting period for keeping records and reporting income and expenses. We're not investigating tax, so don't need it\n",
    "\n",
    "'STREET NUMBER'\n",
    "'STREET NAME'\n",
    "'Postcode'\n",
    "\n",
    "'BLDG_CLASS': Building class (Use and Occupancy classification: https://igpny.com/wp-content/uploads/2019/05/NYC-DOB-Building-Code-Chapter-3-Use-and-Occupancy-Classification.pdf). I don't think we need it.\n",
    "\n",
    "'TAXCLASS': We're not interested in tax here\n",
    "\n",
    "'OWNER_NAME': Do we wanna check if owner of Airbnb and hotels is the same?\n",
    "\n",
    "'Borough': We need it\n",
    "\n",
    "'Latitude': We need it\n",
    "\n",
    "'Longitude': We need it\n",
    "\n",
    "'Community Board': Membership - Community Boards are local representative bodies. There are 59 throughout the city. Each Board consists of up to 50 unsalaried members appointed by the Borough President, with half nominated by the City Council Members who represent the community district.\n",
    "Are we interested in if airbnbs are nearby the community board? \n",
    "\n",
    "'Council District': Council District means any of four political subdivisions within the City by which City Council members are elected.\n",
    "Are we interested in if airbnbs are nearby the community board? \n",
    "\n",
    "'Census Tract',\n",
    "'BIN': Building Identification Number. Don't think we need this.\n",
    "\n",
    "'BBL': Borough, Block, Lot\n",
    "\n",
    "'NTA': Neighborhood Tabulation Areas; created by the NYC Dept of Planning by aggregating census tracts into 195 neighborhood-like areas.\n",
    "Maybe interesting? Because it's neighborhood like areas.\n"
   ]
  },
  {
   "cell_type": "markdown",
   "metadata": {},
   "source": [
    "Questions: Do we need BBL, Street number/name, Postcode?  \n",
    "I think only for a geographic use, borough, latitue, longitude are enough? "
   ]
  },
  {
   "cell_type": "code",
   "execution_count": null,
   "metadata": {},
   "outputs": [],
   "source": [
    "df_hotel.head()"
   ]
  },
  {
   "cell_type": "code",
   "execution_count": 64,
   "metadata": {},
   "outputs": [
    {
     "name": "stdout",
     "output_type": "stream",
     "text": [
      "<class 'pandas.core.frame.DataFrame'>\n",
      "RangeIndex: 5519 entries, 0 to 5518\n",
      "Data columns (total 20 columns):\n",
      " #   Column            Non-Null Count  Dtype  \n",
      "---  ------            --------------  -----  \n",
      " 0   PARID             5519 non-null   int64  \n",
      " 1   BOROCODE          5519 non-null   int64  \n",
      " 2   BLOCK             5519 non-null   int64  \n",
      " 3   LOT               5519 non-null   int64  \n",
      " 4   TAXYEAR           5519 non-null   int64  \n",
      " 5   STREET NUMBER     5514 non-null   object \n",
      " 6   STREET NAME       5519 non-null   object \n",
      " 7   Postcode          5519 non-null   int64  \n",
      " 8   BLDG_CLASS        5519 non-null   object \n",
      " 9   TAXCLASS          5519 non-null   int64  \n",
      " 10  OWNER_NAME        5519 non-null   object \n",
      " 11  Borough           5514 non-null   object \n",
      " 12  Latitude          5502 non-null   float64\n",
      " 13  Longitude         5502 non-null   float64\n",
      " 14  Community Board   5502 non-null   float64\n",
      " 15  Council District  5502 non-null   float64\n",
      " 16  Census Tract      5502 non-null   float64\n",
      " 17  BIN               5475 non-null   float64\n",
      " 18  BBL               5475 non-null   float64\n",
      " 19  NTA               5502 non-null   object \n",
      "dtypes: float64(7), int64(7), object(6)\n",
      "memory usage: 862.5+ KB\n",
      "None\n",
      "              PARID     BOROCODE         BLOCK          LOT      TAXYEAR  \\\n",
      "count  5.519000e+03  5519.000000   5519.000000  5519.000000  5519.000000   \n",
      "mean   1.434710e+09     1.419641   1506.793078   834.148215  2021.505164   \n",
      "std    9.709257e+08     0.959313   1992.776337   711.499495     0.500019   \n",
      "min    1.000080e+09     1.000000      1.000000     1.000000  2021.000000   \n",
      "25%    1.008370e+09     1.000000    709.000000    39.000000  2021.000000   \n",
      "50%    1.011381e+09     1.000000   1113.000000  1205.000000  2022.000000   \n",
      "75%    1.013775e+09     1.000000   1319.000000  1363.000000  2022.000000   \n",
      "max    5.075840e+09     5.000000  16188.000000  9012.000000  2022.000000   \n",
      "\n",
      "           Postcode  TAXCLASS     Latitude    Longitude  Community Board  \\\n",
      "count   5519.000000    5519.0  5502.000000  5502.000000      5502.000000   \n",
      "mean   10213.384671       4.0    40.748796   -73.970987        74.986187   \n",
      "std      481.762344       0.0     0.038387     0.045486        97.439729   \n",
      "min        0.000000       4.0    40.515283   -74.237788         1.000000   \n",
      "25%    10016.000000       4.0    40.725616   -73.991100         5.000000   \n",
      "50%    10019.000000       4.0    40.756230   -73.980773        14.000000   \n",
      "75%    10036.000000       4.0    40.764928   -73.972642       105.000000   \n",
      "max    11694.000000       4.0    40.905815   -73.708347       503.000000   \n",
      "\n",
      "       Council District   Census Tract           BIN           BBL  \n",
      "count       5502.000000    5502.000000  5.475000e+03  5.475000e+03  \n",
      "mean           8.188477    2297.346601  1.483854e+06  1.421480e+09  \n",
      "std           10.486663    7925.926663  1.012621e+06  9.574565e+08  \n",
      "min            1.000000       1.000000  1.000000e+06  0.000000e+00  \n",
      "25%            3.000000      79.000000  1.027191e+06  1.008370e+09  \n",
      "50%            4.000000     137.000000  1.050879e+06  1.011388e+09  \n",
      "75%            6.000000     199.000000  1.088431e+06  1.013378e+09  \n",
      "max           51.000000  157903.000000  5.151613e+06  5.073650e+09  \n",
      "Data`s Shape:  (5519, 20)\n",
      "\n",
      "Type of features \n",
      " int64      7\n",
      "float64    7\n",
      "object     6\n",
      "dtype: int64\n",
      "\n",
      "Null columns and numbers:\n",
      "  BIN                 44\n",
      "BBL                 44\n",
      "Latitude            17\n",
      "Longitude           17\n",
      "Community Board     17\n",
      "Council District    17\n",
      "Census Tract        17\n",
      "NTA                 17\n",
      "STREET NUMBER        5\n",
      "Borough              5\n",
      "dtype: int64\n"
     ]
    }
   ],
   "source": [
    "# check the data size\n",
    "print(df_hotel.info())\n",
    "print(df_hotel.describe())\n",
    "print('Data`s Shape: ', df_hotel.shape)\n",
    "print('\\nType of features \\n', df_hotel.dtypes.value_counts())\n",
    "isnull_series = df_hotel.isnull().sum()\n",
    "isna_series = df_hotel.isna().sum()\n",
    "print('\\nNull columns and numbers:\\n ', isnull_series[isnull_series > 0].sort_values(ascending=False))"
   ]
  },
  {
   "cell_type": "code",
   "execution_count": null,
   "metadata": {},
   "outputs": [],
   "source": [
    "df_hotel.value_counts(['Borough']).sort_index()"
   ]
  },
  {
   "cell_type": "code",
   "execution_count": null,
   "metadata": {},
   "outputs": [],
   "source": [
    "df_hotel.value_counts(['NTA']).sort_index()"
   ]
  },
  {
   "cell_type": "markdown",
   "metadata": {},
   "source": [
    "In the end we're just using borough, latitue, longitude\n",
    "\n"
   ]
  },
  {
   "cell_type": "code",
   "execution_count": 87,
   "metadata": {},
   "outputs": [],
   "source": [
    "# drop all rows with any NaN and NaT values\n",
    "df_hotel_clean = df_hotel.dropna(inplace=False)"
   ]
  },
  {
   "cell_type": "code",
   "execution_count": null,
   "metadata": {},
   "outputs": [],
   "source": [
    "df_hotel_clean.head()"
   ]
  },
  {
   "cell_type": "code",
   "execution_count": null,
   "metadata": {},
   "outputs": [],
   "source": [
    "isnull_series = df_hotel_clean.isnull().sum()\n",
    "isna_series = df_hotel_clean.isna().sum()\n",
    "print(isnull_series, isna_series)"
   ]
  },
  {
   "cell_type": "code",
   "execution_count": null,
   "metadata": {},
   "outputs": [],
   "source": []
  },
  {
   "cell_type": "code",
   "execution_count": null,
   "metadata": {},
   "outputs": [],
   "source": [
    "# remove duplicates of the same ID \n",
    "# what if there are different rooms in the same hotel building? For now I assume we keep them\n",
    "# df_hotel_clean.drop_duplicates(subset='PARID', keep=\"last\")"
   ]
  },
  {
   "cell_type": "code",
   "execution_count": 88,
   "metadata": {},
   "outputs": [
    {
     "data": {
      "text/html": [
       "<div>\n",
       "<style scoped>\n",
       "    .dataframe tbody tr th:only-of-type {\n",
       "        vertical-align: middle;\n",
       "    }\n",
       "\n",
       "    .dataframe tbody tr th {\n",
       "        vertical-align: top;\n",
       "    }\n",
       "\n",
       "    .dataframe thead th {\n",
       "        text-align: right;\n",
       "    }\n",
       "</style>\n",
       "<table border=\"1\" class=\"dataframe\">\n",
       "  <thead>\n",
       "    <tr style=\"text-align: right;\">\n",
       "      <th></th>\n",
       "      <th>PARID</th>\n",
       "      <th>Borough</th>\n",
       "      <th>Postcode</th>\n",
       "      <th>NTA</th>\n",
       "    </tr>\n",
       "  </thead>\n",
       "  <tbody>\n",
       "    <tr>\n",
       "      <th>0</th>\n",
       "      <td>1000080039</td>\n",
       "      <td>MANHATTAN</td>\n",
       "      <td>10004</td>\n",
       "      <td>Battery Park City-Lower Manhattan</td>\n",
       "    </tr>\n",
       "    <tr>\n",
       "      <th>1</th>\n",
       "      <td>1000080051</td>\n",
       "      <td>MANHATTAN</td>\n",
       "      <td>10004</td>\n",
       "      <td>Battery Park City-Lower Manhattan</td>\n",
       "    </tr>\n",
       "    <tr>\n",
       "      <th>2</th>\n",
       "      <td>1000100033</td>\n",
       "      <td>MANHATTAN</td>\n",
       "      <td>10004</td>\n",
       "      <td>Battery Park City-Lower Manhattan</td>\n",
       "    </tr>\n",
       "    <tr>\n",
       "      <th>3</th>\n",
       "      <td>1000110029</td>\n",
       "      <td>MANHATTAN</td>\n",
       "      <td>10004</td>\n",
       "      <td>Battery Park City-Lower Manhattan</td>\n",
       "    </tr>\n",
       "    <tr>\n",
       "      <th>4</th>\n",
       "      <td>1000161301</td>\n",
       "      <td>MANHATTAN</td>\n",
       "      <td>10282</td>\n",
       "      <td>Battery Park City-Lower Manhattan</td>\n",
       "    </tr>\n",
       "  </tbody>\n",
       "</table>\n",
       "</div>"
      ],
      "text/plain": [
       "        PARID    Borough  Postcode                                NTA\n",
       "0  1000080039  MANHATTAN     10004  Battery Park City-Lower Manhattan\n",
       "1  1000080051  MANHATTAN     10004  Battery Park City-Lower Manhattan\n",
       "2  1000100033  MANHATTAN     10004  Battery Park City-Lower Manhattan\n",
       "3  1000110029  MANHATTAN     10004  Battery Park City-Lower Manhattan\n",
       "4  1000161301  MANHATTAN     10282  Battery Park City-Lower Manhattan"
      ]
     },
     "execution_count": 88,
     "metadata": {},
     "output_type": "execute_result"
    }
   ],
   "source": [
    "df_hotel_clean_2 = df_hotel_clean[[\"PARID\", \"Borough\", \"Postcode\", \"NTA\"]]\n",
    "df_hotel_clean_2.head()"
   ]
  },
  {
   "cell_type": "code",
   "execution_count": 67,
   "metadata": {},
   "outputs": [
    {
     "name": "stdout",
     "output_type": "stream",
     "text": [
      "<class 'pandas.core.frame.DataFrame'>\n",
      "Int64Index: 5473 entries, 0 to 5517\n",
      "Data columns (total 4 columns):\n",
      " #   Column    Non-Null Count  Dtype \n",
      "---  ------    --------------  ----- \n",
      " 0   PARID     5473 non-null   int64 \n",
      " 1   Borough   5473 non-null   object\n",
      " 2   Postcode  5473 non-null   int64 \n",
      " 3   NTA       5473 non-null   object\n",
      "dtypes: int64(2), object(2)\n",
      "memory usage: 213.8+ KB\n",
      "None\n",
      "              PARID      Postcode\n",
      "count  5.473000e+03   5473.000000\n",
      "mean   1.421075e+09  10211.873744\n",
      "std    9.567826e+08    436.099099\n",
      "min    1.000080e+09  10001.000000\n",
      "25%    1.008370e+09  10016.000000\n",
      "50%    1.011381e+09  10019.000000\n",
      "75%    1.013370e+09  10036.000000\n",
      "max    5.073650e+09  11694.000000\n",
      "Data`s Shape:  (5473, 4)\n",
      "\n",
      "Type of features \n",
      " int64     2\n",
      "object    2\n",
      "dtype: int64\n"
     ]
    }
   ],
   "source": [
    "print(df_hotel_clean_2.info())\n",
    "print(df_hotel_clean_2.describe())\n",
    "print('Data`s Shape: ', df_hotel_clean_2.shape)\n",
    "print('\\nType of features \\n', df_hotel_clean_2.dtypes.value_counts())"
   ]
  },
  {
   "cell_type": "code",
   "execution_count": 89,
   "metadata": {},
   "outputs": [
    {
     "data": {
      "text/html": [
       "<div>\n",
       "<style scoped>\n",
       "    .dataframe tbody tr th:only-of-type {\n",
       "        vertical-align: middle;\n",
       "    }\n",
       "\n",
       "    .dataframe tbody tr th {\n",
       "        vertical-align: top;\n",
       "    }\n",
       "\n",
       "    .dataframe thead th {\n",
       "        text-align: right;\n",
       "    }\n",
       "</style>\n",
       "<table border=\"1\" class=\"dataframe\">\n",
       "  <thead>\n",
       "    <tr style=\"text-align: right;\">\n",
       "      <th></th>\n",
       "      <th>PARID</th>\n",
       "      <th>Borough</th>\n",
       "      <th>Postcode</th>\n",
       "      <th>NTA</th>\n",
       "    </tr>\n",
       "  </thead>\n",
       "  <tbody>\n",
       "    <tr>\n",
       "      <th>0</th>\n",
       "      <td>1000080039</td>\n",
       "      <td>MANHATTAN</td>\n",
       "      <td>10004</td>\n",
       "      <td>Battery Park City-Lower Manhattan</td>\n",
       "    </tr>\n",
       "    <tr>\n",
       "      <th>1</th>\n",
       "      <td>1000080051</td>\n",
       "      <td>MANHATTAN</td>\n",
       "      <td>10004</td>\n",
       "      <td>Battery Park City-Lower Manhattan</td>\n",
       "    </tr>\n",
       "    <tr>\n",
       "      <th>2</th>\n",
       "      <td>1000100033</td>\n",
       "      <td>MANHATTAN</td>\n",
       "      <td>10004</td>\n",
       "      <td>Battery Park City-Lower Manhattan</td>\n",
       "    </tr>\n",
       "    <tr>\n",
       "      <th>3</th>\n",
       "      <td>1000110029</td>\n",
       "      <td>MANHATTAN</td>\n",
       "      <td>10004</td>\n",
       "      <td>Battery Park City-Lower Manhattan</td>\n",
       "    </tr>\n",
       "    <tr>\n",
       "      <th>4</th>\n",
       "      <td>1000161301</td>\n",
       "      <td>MANHATTAN</td>\n",
       "      <td>10282</td>\n",
       "      <td>Battery Park City-Lower Manhattan</td>\n",
       "    </tr>\n",
       "  </tbody>\n",
       "</table>\n",
       "</div>"
      ],
      "text/plain": [
       "        PARID    Borough  Postcode                                NTA\n",
       "0  1000080039  MANHATTAN     10004  Battery Park City-Lower Manhattan\n",
       "1  1000080051  MANHATTAN     10004  Battery Park City-Lower Manhattan\n",
       "2  1000100033  MANHATTAN     10004  Battery Park City-Lower Manhattan\n",
       "3  1000110029  MANHATTAN     10004  Battery Park City-Lower Manhattan\n",
       "4  1000161301  MANHATTAN     10282  Battery Park City-Lower Manhattan"
      ]
     },
     "execution_count": 89,
     "metadata": {},
     "output_type": "execute_result"
    }
   ],
   "source": [
    "df_hotel_clean_2['Borough'] = df_hotel_clean_2['Borough'].replace(['1', '2', '3', '4', '5'], \n",
    "['Manhattan', 'Bronx', 'Brooklyn', 'Queens', 'Staten Island'])\n",
    "df_hotel_clean_2.head()"
   ]
  },
  {
   "cell_type": "code",
   "execution_count": 90,
   "metadata": {},
   "outputs": [
    {
     "data": {
      "text/html": [
       "<div>\n",
       "<style scoped>\n",
       "    .dataframe tbody tr th:only-of-type {\n",
       "        vertical-align: middle;\n",
       "    }\n",
       "\n",
       "    .dataframe tbody tr th {\n",
       "        vertical-align: top;\n",
       "    }\n",
       "\n",
       "    .dataframe thead th {\n",
       "        text-align: right;\n",
       "    }\n",
       "</style>\n",
       "<table border=\"1\" class=\"dataframe\">\n",
       "  <thead>\n",
       "    <tr style=\"text-align: right;\">\n",
       "      <th></th>\n",
       "      <th>PARID</th>\n",
       "      <th>Borough</th>\n",
       "      <th>Postcode</th>\n",
       "      <th>NTA</th>\n",
       "    </tr>\n",
       "  </thead>\n",
       "  <tbody>\n",
       "    <tr>\n",
       "      <th>0</th>\n",
       "      <td>1000080039</td>\n",
       "      <td>Manhattan</td>\n",
       "      <td>10004</td>\n",
       "      <td>Battery Park City-Lower Manhattan</td>\n",
       "    </tr>\n",
       "    <tr>\n",
       "      <th>1</th>\n",
       "      <td>1000080051</td>\n",
       "      <td>Manhattan</td>\n",
       "      <td>10004</td>\n",
       "      <td>Battery Park City-Lower Manhattan</td>\n",
       "    </tr>\n",
       "    <tr>\n",
       "      <th>2</th>\n",
       "      <td>1000100033</td>\n",
       "      <td>Manhattan</td>\n",
       "      <td>10004</td>\n",
       "      <td>Battery Park City-Lower Manhattan</td>\n",
       "    </tr>\n",
       "    <tr>\n",
       "      <th>3</th>\n",
       "      <td>1000110029</td>\n",
       "      <td>Manhattan</td>\n",
       "      <td>10004</td>\n",
       "      <td>Battery Park City-Lower Manhattan</td>\n",
       "    </tr>\n",
       "    <tr>\n",
       "      <th>4</th>\n",
       "      <td>1000161301</td>\n",
       "      <td>Manhattan</td>\n",
       "      <td>10282</td>\n",
       "      <td>Battery Park City-Lower Manhattan</td>\n",
       "    </tr>\n",
       "  </tbody>\n",
       "</table>\n",
       "</div>"
      ],
      "text/plain": [
       "        PARID    Borough  Postcode                                NTA\n",
       "0  1000080039  Manhattan     10004  Battery Park City-Lower Manhattan\n",
       "1  1000080051  Manhattan     10004  Battery Park City-Lower Manhattan\n",
       "2  1000100033  Manhattan     10004  Battery Park City-Lower Manhattan\n",
       "3  1000110029  Manhattan     10004  Battery Park City-Lower Manhattan\n",
       "4  1000161301  Manhattan     10282  Battery Park City-Lower Manhattan"
      ]
     },
     "execution_count": 90,
     "metadata": {},
     "output_type": "execute_result"
    }
   ],
   "source": [
    "df_hotel_clean_2['Borough'] = df_hotel_clean_2['Borough'].replace(['MANHATTAN', 'BRONX', 'BROOKLYN', 'QUEENS', 'STATEN IS'], \n",
    "['Manhattan', 'Bronx', 'Brooklyn', 'Queens', 'Staten Island'])\n",
    "df_hotel_clean_2.head()\n",
    "# df_hotel_clean_2.to_csv('../data/Hotels_clean.csv')"
   ]
  },
  {
   "cell_type": "code",
   "execution_count": 91,
   "metadata": {},
   "outputs": [
    {
     "data": {
      "text/html": [
       "<div>\n",
       "<style scoped>\n",
       "    .dataframe tbody tr th:only-of-type {\n",
       "        vertical-align: middle;\n",
       "    }\n",
       "\n",
       "    .dataframe tbody tr th {\n",
       "        vertical-align: top;\n",
       "    }\n",
       "\n",
       "    .dataframe thead th {\n",
       "        text-align: right;\n",
       "    }\n",
       "</style>\n",
       "<table border=\"1\" class=\"dataframe\">\n",
       "  <thead>\n",
       "    <tr style=\"text-align: right;\">\n",
       "      <th></th>\n",
       "      <th>PARID</th>\n",
       "      <th>neighbourhood_group</th>\n",
       "      <th>zipcode</th>\n",
       "      <th>neighbourhood</th>\n",
       "    </tr>\n",
       "  </thead>\n",
       "  <tbody>\n",
       "    <tr>\n",
       "      <th>0</th>\n",
       "      <td>1000080039</td>\n",
       "      <td>Manhattan</td>\n",
       "      <td>10004</td>\n",
       "      <td>Battery Park City-Lower Manhattan</td>\n",
       "    </tr>\n",
       "    <tr>\n",
       "      <th>1</th>\n",
       "      <td>1000080051</td>\n",
       "      <td>Manhattan</td>\n",
       "      <td>10004</td>\n",
       "      <td>Battery Park City-Lower Manhattan</td>\n",
       "    </tr>\n",
       "    <tr>\n",
       "      <th>2</th>\n",
       "      <td>1000100033</td>\n",
       "      <td>Manhattan</td>\n",
       "      <td>10004</td>\n",
       "      <td>Battery Park City-Lower Manhattan</td>\n",
       "    </tr>\n",
       "    <tr>\n",
       "      <th>3</th>\n",
       "      <td>1000110029</td>\n",
       "      <td>Manhattan</td>\n",
       "      <td>10004</td>\n",
       "      <td>Battery Park City-Lower Manhattan</td>\n",
       "    </tr>\n",
       "    <tr>\n",
       "      <th>4</th>\n",
       "      <td>1000161301</td>\n",
       "      <td>Manhattan</td>\n",
       "      <td>10282</td>\n",
       "      <td>Battery Park City-Lower Manhattan</td>\n",
       "    </tr>\n",
       "  </tbody>\n",
       "</table>\n",
       "</div>"
      ],
      "text/plain": [
       "        PARID neighbourhood_group  zipcode                      neighbourhood\n",
       "0  1000080039           Manhattan    10004  Battery Park City-Lower Manhattan\n",
       "1  1000080051           Manhattan    10004  Battery Park City-Lower Manhattan\n",
       "2  1000100033           Manhattan    10004  Battery Park City-Lower Manhattan\n",
       "3  1000110029           Manhattan    10004  Battery Park City-Lower Manhattan\n",
       "4  1000161301           Manhattan    10282  Battery Park City-Lower Manhattan"
      ]
     },
     "execution_count": 91,
     "metadata": {},
     "output_type": "execute_result"
    }
   ],
   "source": [
    "df_hotel_clean_2.rename(columns={'Postcode': 'zipcode', 'Borough': 'neighbourhood_group', 'NTA': 'neighbourhood'}, inplace=True)\n",
    "df_hotel_clean_2.head()"
   ]
  },
  {
   "cell_type": "code",
   "execution_count": 92,
   "metadata": {},
   "outputs": [
    {
     "data": {
      "text/html": [
       "<div>\n",
       "<style scoped>\n",
       "    .dataframe tbody tr th:only-of-type {\n",
       "        vertical-align: middle;\n",
       "    }\n",
       "\n",
       "    .dataframe tbody tr th {\n",
       "        vertical-align: top;\n",
       "    }\n",
       "\n",
       "    .dataframe thead th {\n",
       "        text-align: right;\n",
       "    }\n",
       "</style>\n",
       "<table border=\"1\" class=\"dataframe\">\n",
       "  <thead>\n",
       "    <tr style=\"text-align: right;\">\n",
       "      <th></th>\n",
       "      <th>PARID</th>\n",
       "      <th>neighbourhood_group</th>\n",
       "      <th>zipcode</th>\n",
       "      <th>neighbourhood</th>\n",
       "    </tr>\n",
       "  </thead>\n",
       "  <tbody>\n",
       "    <tr>\n",
       "      <th>0</th>\n",
       "      <td>1000080039</td>\n",
       "      <td>Manhattan</td>\n",
       "      <td>10004</td>\n",
       "      <td>Battery Park City Lower Manhattan</td>\n",
       "    </tr>\n",
       "    <tr>\n",
       "      <th>1</th>\n",
       "      <td>1000080051</td>\n",
       "      <td>Manhattan</td>\n",
       "      <td>10004</td>\n",
       "      <td>Battery Park City Lower Manhattan</td>\n",
       "    </tr>\n",
       "    <tr>\n",
       "      <th>2</th>\n",
       "      <td>1000100033</td>\n",
       "      <td>Manhattan</td>\n",
       "      <td>10004</td>\n",
       "      <td>Battery Park City Lower Manhattan</td>\n",
       "    </tr>\n",
       "    <tr>\n",
       "      <th>3</th>\n",
       "      <td>1000110029</td>\n",
       "      <td>Manhattan</td>\n",
       "      <td>10004</td>\n",
       "      <td>Battery Park City Lower Manhattan</td>\n",
       "    </tr>\n",
       "    <tr>\n",
       "      <th>4</th>\n",
       "      <td>1000161301</td>\n",
       "      <td>Manhattan</td>\n",
       "      <td>10282</td>\n",
       "      <td>Battery Park City Lower Manhattan</td>\n",
       "    </tr>\n",
       "  </tbody>\n",
       "</table>\n",
       "</div>"
      ],
      "text/plain": [
       "        PARID neighbourhood_group  zipcode                      neighbourhood\n",
       "0  1000080039           Manhattan    10004  Battery Park City Lower Manhattan\n",
       "1  1000080051           Manhattan    10004  Battery Park City Lower Manhattan\n",
       "2  1000100033           Manhattan    10004  Battery Park City Lower Manhattan\n",
       "3  1000110029           Manhattan    10004  Battery Park City Lower Manhattan\n",
       "4  1000161301           Manhattan    10282  Battery Park City Lower Manhattan"
      ]
     },
     "execution_count": 92,
     "metadata": {},
     "output_type": "execute_result"
    }
   ],
   "source": [
    "df_hotel_clean_2['neighbourhood'] = df_hotel_clean_2['neighbourhood'].str.replace('-', ' ')\n",
    "df_hotel_clean_2.head()"
   ]
  },
  {
   "cell_type": "code",
   "execution_count": 107,
   "metadata": {},
   "outputs": [],
   "source": [
    "df_zipcode = pd.read_csv('../data/neighbourhoods.csv')"
   ]
  },
  {
   "cell_type": "code",
   "execution_count": 108,
   "metadata": {},
   "outputs": [
    {
     "data": {
      "text/html": [
       "<div>\n",
       "<style scoped>\n",
       "    .dataframe tbody tr th:only-of-type {\n",
       "        vertical-align: middle;\n",
       "    }\n",
       "\n",
       "    .dataframe tbody tr th {\n",
       "        vertical-align: top;\n",
       "    }\n",
       "\n",
       "    .dataframe thead th {\n",
       "        text-align: right;\n",
       "    }\n",
       "</style>\n",
       "<table border=\"1\" class=\"dataframe\">\n",
       "  <thead>\n",
       "    <tr style=\"text-align: right;\">\n",
       "      <th></th>\n",
       "      <th>neighbourhood_group</th>\n",
       "      <th>neighbourhood</th>\n",
       "      <th>zipcode</th>\n",
       "    </tr>\n",
       "  </thead>\n",
       "  <tbody>\n",
       "    <tr>\n",
       "      <th>0</th>\n",
       "      <td>Bronx</td>\n",
       "      <td>Allerton</td>\n",
       "      <td>10467</td>\n",
       "    </tr>\n",
       "    <tr>\n",
       "      <th>1</th>\n",
       "      <td>Bronx</td>\n",
       "      <td>Baychester</td>\n",
       "      <td>10469</td>\n",
       "    </tr>\n",
       "    <tr>\n",
       "      <th>2</th>\n",
       "      <td>Bronx</td>\n",
       "      <td>Belmont</td>\n",
       "      <td>10457</td>\n",
       "    </tr>\n",
       "    <tr>\n",
       "      <th>3</th>\n",
       "      <td>Bronx</td>\n",
       "      <td>Belmont</td>\n",
       "      <td>10458</td>\n",
       "    </tr>\n",
       "    <tr>\n",
       "      <th>4</th>\n",
       "      <td>Bronx</td>\n",
       "      <td>Bronx Park</td>\n",
       "      <td>10460</td>\n",
       "    </tr>\n",
       "  </tbody>\n",
       "</table>\n",
       "</div>"
      ],
      "text/plain": [
       "  neighbourhood_group neighbourhood  zipcode\n",
       "0               Bronx      Allerton    10467\n",
       "1               Bronx    Baychester    10469\n",
       "2               Bronx       Belmont    10457\n",
       "3               Bronx       Belmont    10458\n",
       "4               Bronx    Bronx Park    10460"
      ]
     },
     "execution_count": 108,
     "metadata": {},
     "output_type": "execute_result"
    }
   ],
   "source": [
    "df_zipcode.head()"
   ]
  },
  {
   "cell_type": "code",
   "execution_count": null,
   "metadata": {},
   "outputs": [],
   "source": [
    "df_hotel_clean_2.shape"
   ]
  },
  {
   "cell_type": "code",
   "execution_count": 101,
   "metadata": {},
   "outputs": [
    {
     "data": {
      "text/html": [
       "<div>\n",
       "<style scoped>\n",
       "    .dataframe tbody tr th:only-of-type {\n",
       "        vertical-align: middle;\n",
       "    }\n",
       "\n",
       "    .dataframe tbody tr th {\n",
       "        vertical-align: top;\n",
       "    }\n",
       "\n",
       "    .dataframe thead th {\n",
       "        text-align: right;\n",
       "    }\n",
       "</style>\n",
       "<table border=\"1\" class=\"dataframe\">\n",
       "  <thead>\n",
       "    <tr style=\"text-align: right;\">\n",
       "      <th></th>\n",
       "      <th>PARID</th>\n",
       "      <th>neighbourhood_group</th>\n",
       "      <th>zipcode</th>\n",
       "      <th>neighbourhood</th>\n",
       "    </tr>\n",
       "  </thead>\n",
       "  <tbody>\n",
       "    <tr>\n",
       "      <th>0</th>\n",
       "      <td>1000080039</td>\n",
       "      <td>Manhattan</td>\n",
       "      <td>10004</td>\n",
       "      <td>Battery Park City Lower Manhattan</td>\n",
       "    </tr>\n",
       "    <tr>\n",
       "      <th>1</th>\n",
       "      <td>1000080051</td>\n",
       "      <td>Manhattan</td>\n",
       "      <td>10004</td>\n",
       "      <td>Battery Park City Lower Manhattan</td>\n",
       "    </tr>\n",
       "    <tr>\n",
       "      <th>2</th>\n",
       "      <td>1000100033</td>\n",
       "      <td>Manhattan</td>\n",
       "      <td>10004</td>\n",
       "      <td>Battery Park City Lower Manhattan</td>\n",
       "    </tr>\n",
       "    <tr>\n",
       "      <th>3</th>\n",
       "      <td>1000110029</td>\n",
       "      <td>Manhattan</td>\n",
       "      <td>10004</td>\n",
       "      <td>Battery Park City Lower Manhattan</td>\n",
       "    </tr>\n",
       "    <tr>\n",
       "      <th>4</th>\n",
       "      <td>1000161301</td>\n",
       "      <td>Manhattan</td>\n",
       "      <td>10282</td>\n",
       "      <td>Battery Park City Lower Manhattan</td>\n",
       "    </tr>\n",
       "  </tbody>\n",
       "</table>\n",
       "</div>"
      ],
      "text/plain": [
       "        PARID neighbourhood_group  zipcode                      neighbourhood\n",
       "0  1000080039           Manhattan    10004  Battery Park City Lower Manhattan\n",
       "1  1000080051           Manhattan    10004  Battery Park City Lower Manhattan\n",
       "2  1000100033           Manhattan    10004  Battery Park City Lower Manhattan\n",
       "3  1000110029           Manhattan    10004  Battery Park City Lower Manhattan\n",
       "4  1000161301           Manhattan    10282  Battery Park City Lower Manhattan"
      ]
     },
     "execution_count": 101,
     "metadata": {},
     "output_type": "execute_result"
    }
   ],
   "source": [
    "df_hotel_copy3 = df_hotel_clean_2\n",
    "df_hotel_copy3.head()"
   ]
  },
  {
   "cell_type": "code",
   "execution_count": null,
   "metadata": {},
   "outputs": [],
   "source": []
  },
  {
   "cell_type": "code",
   "execution_count": 115,
   "metadata": {},
   "outputs": [
    {
     "data": {
      "text/plain": [
       "Bedford-Stuyvesant    6\n",
       "Upper East Side       5\n",
       "Financial District    5\n",
       "Harlem                5\n",
       "Crown Heights         5\n",
       "                     ..\n",
       "Unionport             1\n",
       "Throgs Neck           1\n",
       "Two Bridges           1\n",
       "Arverne               1\n",
       "Allerton              1\n",
       "Name: neighbourhood, Length: 243, dtype: int64"
      ]
     },
     "execution_count": 115,
     "metadata": {},
     "output_type": "execute_result"
    },
    {
     "ename": "",
     "evalue": "",
     "output_type": "error",
     "traceback": [
      "\u001b[1;31mThe Kernel crashed while executing code in the the current cell or a previous cell. Please review the code in the cell(s) to identify a possible cause of the failure. Click <a href='https://aka.ms/vscodeJupyterKernelCrash'>here</a> for more info. View Jupyter <a href='command:jupyter.viewOutput'>log</a> for further details."
     ]
    }
   ],
   "source": [
    "\n",
    "df_zipcode['neighbourhood'].value_counts()\n"
   ]
  },
  {
   "cell_type": "code",
   "execution_count": 110,
   "metadata": {},
   "outputs": [
    {
     "data": {
      "text/html": [
       "<div>\n",
       "<style scoped>\n",
       "    .dataframe tbody tr th:only-of-type {\n",
       "        vertical-align: middle;\n",
       "    }\n",
       "\n",
       "    .dataframe tbody tr th {\n",
       "        vertical-align: top;\n",
       "    }\n",
       "\n",
       "    .dataframe thead th {\n",
       "        text-align: right;\n",
       "    }\n",
       "</style>\n",
       "<table border=\"1\" class=\"dataframe\">\n",
       "  <thead>\n",
       "    <tr style=\"text-align: right;\">\n",
       "      <th></th>\n",
       "      <th>PARID</th>\n",
       "      <th>neighbourhood_group</th>\n",
       "      <th>zipcode</th>\n",
       "      <th>neighbourhood</th>\n",
       "    </tr>\n",
       "  </thead>\n",
       "  <tbody>\n",
       "    <tr>\n",
       "      <th>2352</th>\n",
       "      <td>3004200052</td>\n",
       "      <td>Brooklyn</td>\n",
       "      <td>11217</td>\n",
       "      <td>Park Slope Gowanus</td>\n",
       "    </tr>\n",
       "    <tr>\n",
       "      <th>2353</th>\n",
       "      <td>3004340016</td>\n",
       "      <td>Brooklyn</td>\n",
       "      <td>11215</td>\n",
       "      <td>Park Slope Gowanus</td>\n",
       "    </tr>\n",
       "    <tr>\n",
       "      <th>2354</th>\n",
       "      <td>3004340049</td>\n",
       "      <td>Brooklyn</td>\n",
       "      <td>11215</td>\n",
       "      <td>Park Slope Gowanus</td>\n",
       "    </tr>\n",
       "    <tr>\n",
       "      <th>2355</th>\n",
       "      <td>3004410001</td>\n",
       "      <td>Brooklyn</td>\n",
       "      <td>11215</td>\n",
       "      <td>Park Slope Gowanus</td>\n",
       "    </tr>\n",
       "    <tr>\n",
       "      <th>2356</th>\n",
       "      <td>3004410042</td>\n",
       "      <td>Brooklyn</td>\n",
       "      <td>11215</td>\n",
       "      <td>Park Slope Gowanus</td>\n",
       "    </tr>\n",
       "    <tr>\n",
       "      <th>2382</th>\n",
       "      <td>3009800075</td>\n",
       "      <td>Brooklyn</td>\n",
       "      <td>11215</td>\n",
       "      <td>Park Slope Gowanus</td>\n",
       "    </tr>\n",
       "    <tr>\n",
       "      <th>2383</th>\n",
       "      <td>3009800107</td>\n",
       "      <td>Brooklyn</td>\n",
       "      <td>11215</td>\n",
       "      <td>Park Slope Gowanus</td>\n",
       "    </tr>\n",
       "    <tr>\n",
       "      <th>2384</th>\n",
       "      <td>3010330005</td>\n",
       "      <td>Brooklyn</td>\n",
       "      <td>11215</td>\n",
       "      <td>Park Slope Gowanus</td>\n",
       "    </tr>\n",
       "    <tr>\n",
       "      <th>2385</th>\n",
       "      <td>3010330006</td>\n",
       "      <td>Brooklyn</td>\n",
       "      <td>11215</td>\n",
       "      <td>Park Slope Gowanus</td>\n",
       "    </tr>\n",
       "    <tr>\n",
       "      <th>5119</th>\n",
       "      <td>3004200052</td>\n",
       "      <td>Brooklyn</td>\n",
       "      <td>11217</td>\n",
       "      <td>Park Slope Gowanus</td>\n",
       "    </tr>\n",
       "    <tr>\n",
       "      <th>5120</th>\n",
       "      <td>3004340016</td>\n",
       "      <td>Brooklyn</td>\n",
       "      <td>11215</td>\n",
       "      <td>Park Slope Gowanus</td>\n",
       "    </tr>\n",
       "    <tr>\n",
       "      <th>5121</th>\n",
       "      <td>3004340049</td>\n",
       "      <td>Brooklyn</td>\n",
       "      <td>11215</td>\n",
       "      <td>Park Slope Gowanus</td>\n",
       "    </tr>\n",
       "    <tr>\n",
       "      <th>5122</th>\n",
       "      <td>3004410001</td>\n",
       "      <td>Brooklyn</td>\n",
       "      <td>11215</td>\n",
       "      <td>Park Slope Gowanus</td>\n",
       "    </tr>\n",
       "    <tr>\n",
       "      <th>5123</th>\n",
       "      <td>3004410042</td>\n",
       "      <td>Brooklyn</td>\n",
       "      <td>11215</td>\n",
       "      <td>Park Slope Gowanus</td>\n",
       "    </tr>\n",
       "    <tr>\n",
       "      <th>5148</th>\n",
       "      <td>3009800075</td>\n",
       "      <td>Brooklyn</td>\n",
       "      <td>11215</td>\n",
       "      <td>Park Slope Gowanus</td>\n",
       "    </tr>\n",
       "    <tr>\n",
       "      <th>5149</th>\n",
       "      <td>3009800107</td>\n",
       "      <td>Brooklyn</td>\n",
       "      <td>11215</td>\n",
       "      <td>Park Slope Gowanus</td>\n",
       "    </tr>\n",
       "    <tr>\n",
       "      <th>5150</th>\n",
       "      <td>3010330005</td>\n",
       "      <td>Brooklyn</td>\n",
       "      <td>11215</td>\n",
       "      <td>Park Slope Gowanus</td>\n",
       "    </tr>\n",
       "    <tr>\n",
       "      <th>5151</th>\n",
       "      <td>3010330006</td>\n",
       "      <td>Brooklyn</td>\n",
       "      <td>11215</td>\n",
       "      <td>Park Slope Gowanus</td>\n",
       "    </tr>\n",
       "  </tbody>\n",
       "</table>\n",
       "</div>"
      ],
      "text/plain": [
       "           PARID neighbourhood_group  zipcode       neighbourhood\n",
       "2352  3004200052            Brooklyn    11217  Park Slope Gowanus\n",
       "2353  3004340016            Brooklyn    11215  Park Slope Gowanus\n",
       "2354  3004340049            Brooklyn    11215  Park Slope Gowanus\n",
       "2355  3004410001            Brooklyn    11215  Park Slope Gowanus\n",
       "2356  3004410042            Brooklyn    11215  Park Slope Gowanus\n",
       "2382  3009800075            Brooklyn    11215  Park Slope Gowanus\n",
       "2383  3009800107            Brooklyn    11215  Park Slope Gowanus\n",
       "2384  3010330005            Brooklyn    11215  Park Slope Gowanus\n",
       "2385  3010330006            Brooklyn    11215  Park Slope Gowanus\n",
       "5119  3004200052            Brooklyn    11217  Park Slope Gowanus\n",
       "5120  3004340016            Brooklyn    11215  Park Slope Gowanus\n",
       "5121  3004340049            Brooklyn    11215  Park Slope Gowanus\n",
       "5122  3004410001            Brooklyn    11215  Park Slope Gowanus\n",
       "5123  3004410042            Brooklyn    11215  Park Slope Gowanus\n",
       "5148  3009800075            Brooklyn    11215  Park Slope Gowanus\n",
       "5149  3009800107            Brooklyn    11215  Park Slope Gowanus\n",
       "5150  3010330005            Brooklyn    11215  Park Slope Gowanus\n",
       "5151  3010330006            Brooklyn    11215  Park Slope Gowanus"
      ]
     },
     "execution_count": 110,
     "metadata": {},
     "output_type": "execute_result"
    }
   ],
   "source": [
    "df_hotel_copy3['neighbourhood'] = df_hotel_copy3['neighbourhood'].apply(lambda x: df_zipcode[df_zipcode['neighbourhood'].str.contains(x, na=False)]['neighbourhood'].values[0] if df_zipcode[df_zipcode['neighbourhood'].str.contains(x, na=False)].shape[0]>0 else x)\n",
    "\n",
    "df_hotel_copy3[df_hotel_copy3['neighbourhood'].str.contains('Gowanus')]"
   ]
  },
  {
   "cell_type": "code",
   "execution_count": 98,
   "metadata": {},
   "outputs": [
    {
     "data": {
      "text/html": [
       "<div>\n",
       "<style scoped>\n",
       "    .dataframe tbody tr th:only-of-type {\n",
       "        vertical-align: middle;\n",
       "    }\n",
       "\n",
       "    .dataframe tbody tr th {\n",
       "        vertical-align: top;\n",
       "    }\n",
       "\n",
       "    .dataframe thead th {\n",
       "        text-align: right;\n",
       "    }\n",
       "</style>\n",
       "<table border=\"1\" class=\"dataframe\">\n",
       "  <thead>\n",
       "    <tr style=\"text-align: right;\">\n",
       "      <th></th>\n",
       "      <th>PARID</th>\n",
       "      <th>neighbourhood_group</th>\n",
       "      <th>zipcode</th>\n",
       "      <th>neighbourhood</th>\n",
       "    </tr>\n",
       "  </thead>\n",
       "  <tbody>\n",
       "    <tr>\n",
       "      <th>0</th>\n",
       "      <td>1000080039</td>\n",
       "      <td>Manhattan</td>\n",
       "      <td>10004</td>\n",
       "      <td>Battery Park City Lower Manhattan</td>\n",
       "    </tr>\n",
       "    <tr>\n",
       "      <th>1</th>\n",
       "      <td>1000080051</td>\n",
       "      <td>Manhattan</td>\n",
       "      <td>10004</td>\n",
       "      <td>Battery Park City Lower Manhattan</td>\n",
       "    </tr>\n",
       "    <tr>\n",
       "      <th>2</th>\n",
       "      <td>1000100033</td>\n",
       "      <td>Manhattan</td>\n",
       "      <td>10004</td>\n",
       "      <td>Battery Park City Lower Manhattan</td>\n",
       "    </tr>\n",
       "    <tr>\n",
       "      <th>3</th>\n",
       "      <td>1000110029</td>\n",
       "      <td>Manhattan</td>\n",
       "      <td>10004</td>\n",
       "      <td>Battery Park City Lower Manhattan</td>\n",
       "    </tr>\n",
       "    <tr>\n",
       "      <th>4</th>\n",
       "      <td>1000161301</td>\n",
       "      <td>Manhattan</td>\n",
       "      <td>10282</td>\n",
       "      <td>Battery Park City Lower Manhattan</td>\n",
       "    </tr>\n",
       "    <tr>\n",
       "      <th>...</th>\n",
       "      <td>...</td>\n",
       "      <td>...</td>\n",
       "      <td>...</td>\n",
       "      <td>...</td>\n",
       "    </tr>\n",
       "    <tr>\n",
       "      <th>2774</th>\n",
       "      <td>1000921001</td>\n",
       "      <td>Manhattan</td>\n",
       "      <td>10038</td>\n",
       "      <td>Battery Park City Lower Manhattan</td>\n",
       "    </tr>\n",
       "    <tr>\n",
       "      <th>2775</th>\n",
       "      <td>1000921002</td>\n",
       "      <td>Manhattan</td>\n",
       "      <td>10038</td>\n",
       "      <td>Battery Park City Lower Manhattan</td>\n",
       "    </tr>\n",
       "    <tr>\n",
       "      <th>2776</th>\n",
       "      <td>1000921003</td>\n",
       "      <td>Manhattan</td>\n",
       "      <td>10038</td>\n",
       "      <td>Battery Park City Lower Manhattan</td>\n",
       "    </tr>\n",
       "    <tr>\n",
       "      <th>2777</th>\n",
       "      <td>1001060017</td>\n",
       "      <td>Manhattan</td>\n",
       "      <td>10038</td>\n",
       "      <td>Battery Park City Lower Manhattan</td>\n",
       "    </tr>\n",
       "    <tr>\n",
       "      <th>2778</th>\n",
       "      <td>1001070038</td>\n",
       "      <td>Manhattan</td>\n",
       "      <td>10038</td>\n",
       "      <td>Battery Park City Lower Manhattan</td>\n",
       "    </tr>\n",
       "  </tbody>\n",
       "</table>\n",
       "<p>95 rows × 4 columns</p>\n",
       "</div>"
      ],
      "text/plain": [
       "           PARID neighbourhood_group  zipcode  \\\n",
       "0     1000080039           Manhattan    10004   \n",
       "1     1000080051           Manhattan    10004   \n",
       "2     1000100033           Manhattan    10004   \n",
       "3     1000110029           Manhattan    10004   \n",
       "4     1000161301           Manhattan    10282   \n",
       "...          ...                 ...      ...   \n",
       "2774  1000921001           Manhattan    10038   \n",
       "2775  1000921002           Manhattan    10038   \n",
       "2776  1000921003           Manhattan    10038   \n",
       "2777  1001060017           Manhattan    10038   \n",
       "2778  1001070038           Manhattan    10038   \n",
       "\n",
       "                          neighbourhood  \n",
       "0     Battery Park City Lower Manhattan  \n",
       "1     Battery Park City Lower Manhattan  \n",
       "2     Battery Park City Lower Manhattan  \n",
       "3     Battery Park City Lower Manhattan  \n",
       "4     Battery Park City Lower Manhattan  \n",
       "...                                 ...  \n",
       "2774  Battery Park City Lower Manhattan  \n",
       "2775  Battery Park City Lower Manhattan  \n",
       "2776  Battery Park City Lower Manhattan  \n",
       "2777  Battery Park City Lower Manhattan  \n",
       "2778  Battery Park City Lower Manhattan  \n",
       "\n",
       "[95 rows x 4 columns]"
      ]
     },
     "execution_count": 98,
     "metadata": {},
     "output_type": "execute_result"
    }
   ],
   "source": [
    "df_hotel_copy3[df_hotel_copy3['neighbourhood'].str.contains('Battery Park City Lower Manhattan')]"
   ]
  },
  {
   "cell_type": "code",
   "execution_count": null,
   "metadata": {},
   "outputs": [],
   "source": [
    "for value in df_zipcode['neighbourhood']:\n",
    "    df_hotel_clean_2['neighbourhood'] = df_hotel_clean_2['neighbourhood'].str.replace(value, lambda x: x.group(0).replace(x.group(0), value))\n",
    "\n",
    "\n",
    "df_hotel_clean_2"
   ]
  },
  {
   "cell_type": "code",
   "execution_count": null,
   "metadata": {},
   "outputs": [],
   "source": [
    "for value in df_zipcode['neighbourhood'].unique():\n",
    "    df_hotel_clean_2['neighbourhood'] = df_hotel_clean_2['neighbourhood'].replace(to_replace=r'^{}.*'.format(value), value=value, regex=True)\n",
    "\n",
    "df_hotel_clean_2.head()"
   ]
  },
  {
   "cell_type": "code",
   "execution_count": null,
   "metadata": {},
   "outputs": [],
   "source": [
    "\n",
    "df_hotel_clean_2[df_hotel_clean_2['neighbourhood'].str.contains('Gowanus')]\n",
    "    \n",
    "    "
   ]
  },
  {
   "cell_type": "code",
   "execution_count": null,
   "metadata": {},
   "outputs": [],
   "source": [
    "df_hotel_clean_2['hotel_counts_per_neighbourhood'] = df_hotel_clean_2.groupby('neighbourhood')['neighbourhood'].transform('count')"
   ]
  },
  {
   "cell_type": "code",
   "execution_count": null,
   "metadata": {},
   "outputs": [],
   "source": [
    "df_hotel_clean_2.head()"
   ]
  },
  {
   "cell_type": "code",
   "execution_count": null,
   "metadata": {},
   "outputs": [],
   "source": [
    "\n",
    "df_hotel_clean_2.value_counts(['neighbourhood', 'hotel_counts_per_neighbourhood']).sort_index()"
   ]
  },
  {
   "cell_type": "markdown",
   "metadata": {},
   "source": [
    "airbnb"
   ]
  },
  {
   "cell_type": "code",
   "execution_count": null,
   "metadata": {},
   "outputs": [],
   "source": [
    "df_airbnb = pd.read_csv('../data/airbnb_open_data_full_clean.csv')\n",
    "df_airbnb['airbnb_counts_per_neighbourhood'] = df_airbnb.groupby('neighbourhood')['neighbourhood'].transform('count')\n",
    "df_airbnb.head()"
   ]
  },
  {
   "cell_type": "code",
   "execution_count": null,
   "metadata": {},
   "outputs": [],
   "source": [
    "df_hotel_temp = df_hotel_clean_2[['neighbourhood', 'neighbourhood_group', 'zipcode', 'hotel_counts_per_neighbourhood']].copy()\n",
    "df_hotel_temp.drop_duplicates(subset='neighbourhood', keep=\"last\", inplace=True)\n",
    "df_hotel_temp.reset_index(drop=True, inplace=True)\n",
    "df_hotel_temp.head()"
   ]
  },
  {
   "cell_type": "code",
   "execution_count": null,
   "metadata": {},
   "outputs": [],
   "source": [
    "# csv \n",
    "df_hotel_temp.to_csv('../data/hotel_counts.csv')"
   ]
  },
  {
   "cell_type": "code",
   "execution_count": null,
   "metadata": {},
   "outputs": [],
   "source": [
    "#df_airbnb_zip = df_airbnb.merge(df_zipcode[['neighbourhood', 'neighbourhood_group', 'zipcode']], on=['neighbourhood', 'neighbourhood_group'])\n",
    "#df_airbnb_zip.head()"
   ]
  },
  {
   "cell_type": "code",
   "execution_count": null,
   "metadata": {},
   "outputs": [],
   "source": [
    "df_airbnb_temp = df_airbnb[['neighbourhood', 'neighbourhood_group', 'airbnb_counts_per_neighbourhood']].copy()\n",
    "df_airbnb_temp.drop_duplicates(subset='neighbourhood', keep=\"last\", inplace=True)\n",
    "df_airbnb_temp.reset_index(drop=True, inplace=True)\n",
    "df_airbnb_temp.head()"
   ]
  },
  {
   "cell_type": "code",
   "execution_count": null,
   "metadata": {},
   "outputs": [],
   "source": [
    "df_airbnb_temp.value_counts(['neighbourhood', 'airbnb_counts_per_neighbourhood']).sort_index()"
   ]
  },
  {
   "cell_type": "code",
   "execution_count": null,
   "metadata": {},
   "outputs": [],
   "source": [
    "merged_df = pd.merge(df_airbnb_temp, df_hotel_temp, on=['neighbourhood', 'neighbourhood_group'], how='outer').fillna(0)\n",
    "merged_df.to_csv('../data/33.csv')"
   ]
  },
  {
   "cell_type": "code",
   "execution_count": null,
   "metadata": {},
   "outputs": [],
   "source": [
    "df_airbnb_hotel = df_airbnb_temp.merge(df_hotel_temp, on=['neighbourhood', 'neighbourhood_group'])\n",
    "df_airbnb_hotel.head()"
   ]
  },
  {
   "cell_type": "code",
   "execution_count": null,
   "metadata": {},
   "outputs": [],
   "source": [
    "df_airbnb_hotel.to_csv('../data/Hotels_Airbnbs_Neighbourhood_counts.csv')"
   ]
  }
 ],
 "metadata": {
  "kernelspec": {
   "display_name": "Python 3.8.10 64-bit (microsoft store)",
   "language": "python",
   "name": "python3"
  },
  "language_info": {
   "codemirror_mode": {
    "name": "ipython",
    "version": 3
   },
   "file_extension": ".py",
   "mimetype": "text/x-python",
   "name": "python",
   "nbconvert_exporter": "python",
   "pygments_lexer": "ipython3",
   "version": "3.8.10"
  },
  "orig_nbformat": 4,
  "vscode": {
   "interpreter": {
    "hash": "b61bfd2bd764dadfc4568af7d135f9a60845ab0cedd34c9047fe795082c020fc"
   }
  }
 },
 "nbformat": 4,
 "nbformat_minor": 2
}
