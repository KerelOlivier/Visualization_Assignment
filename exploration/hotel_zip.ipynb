{
 "cells": [
  {
   "cell_type": "code",
   "execution_count": 1,
   "metadata": {},
   "outputs": [],
   "source": [
    "import warnings\n",
    "warnings.filterwarnings('ignore')\n",
    "import pandas as pd\n",
    "import numpy as np\n",
    "import seaborn as sns\n",
    "import matplotlib.pyplot as plt\n",
    "import sys\n",
    "%matplotlib inline"
   ]
  },
  {
   "cell_type": "code",
   "execution_count": 63,
   "metadata": {},
   "outputs": [],
   "source": [
    "df_hotel = pd.read_csv('../data/Hotels_Properties_Citywide.csv')\n",
    "df_hotel_clean = df_hotel.dropna(inplace=False)\n",
    "df2 = df_hotel_clean[[\"PARID\", \"Borough\", \"Postcode\"]]\n",
    "df2['Borough'] = df2['Borough'].replace(['1', '2', '3', '4', '5'], \n",
    "['Manhattan', 'Bronx', 'Brooklyn', 'Queens', 'Staten Island'])\n",
    "df2['Borough'] = df2['Borough'].replace(['MANHATTAN', 'BRONX', 'BROOKLYN', 'QUEENS', 'STATEN IS'], \n",
    "['Manhattan', 'Bronx', 'Brooklyn', 'Queens', 'Staten Island'])\n",
    "df2.rename(columns={'Postcode': 'zipcode', 'Borough': 'neighbourhood_group'}, inplace=True)"
   ]
  },
  {
   "cell_type": "code",
   "execution_count": 17,
   "metadata": {},
   "outputs": [
    {
     "data": {
      "text/html": [
       "<div>\n",
       "<style scoped>\n",
       "    .dataframe tbody tr th:only-of-type {\n",
       "        vertical-align: middle;\n",
       "    }\n",
       "\n",
       "    .dataframe tbody tr th {\n",
       "        vertical-align: top;\n",
       "    }\n",
       "\n",
       "    .dataframe thead th {\n",
       "        text-align: right;\n",
       "    }\n",
       "</style>\n",
       "<table border=\"1\" class=\"dataframe\">\n",
       "  <thead>\n",
       "    <tr style=\"text-align: right;\">\n",
       "      <th></th>\n",
       "      <th>PARID</th>\n",
       "      <th>neighbourhood_group</th>\n",
       "      <th>zipcode</th>\n",
       "    </tr>\n",
       "  </thead>\n",
       "  <tbody>\n",
       "    <tr>\n",
       "      <th>0</th>\n",
       "      <td>1000080039</td>\n",
       "      <td>Manhattan</td>\n",
       "      <td>10004</td>\n",
       "    </tr>\n",
       "    <tr>\n",
       "      <th>1</th>\n",
       "      <td>1000080051</td>\n",
       "      <td>Manhattan</td>\n",
       "      <td>10004</td>\n",
       "    </tr>\n",
       "    <tr>\n",
       "      <th>2</th>\n",
       "      <td>1000100033</td>\n",
       "      <td>Manhattan</td>\n",
       "      <td>10004</td>\n",
       "    </tr>\n",
       "    <tr>\n",
       "      <th>3</th>\n",
       "      <td>1000110029</td>\n",
       "      <td>Manhattan</td>\n",
       "      <td>10004</td>\n",
       "    </tr>\n",
       "    <tr>\n",
       "      <th>4</th>\n",
       "      <td>1000161301</td>\n",
       "      <td>Manhattan</td>\n",
       "      <td>10282</td>\n",
       "    </tr>\n",
       "  </tbody>\n",
       "</table>\n",
       "</div>"
      ],
      "text/plain": [
       "        PARID neighbourhood_group  zipcode\n",
       "0  1000080039           Manhattan    10004\n",
       "1  1000080051           Manhattan    10004\n",
       "2  1000100033           Manhattan    10004\n",
       "3  1000110029           Manhattan    10004\n",
       "4  1000161301           Manhattan    10282"
      ]
     },
     "execution_count": 17,
     "metadata": {},
     "output_type": "execute_result"
    }
   ],
   "source": [
    "df2.head()"
   ]
  },
  {
   "cell_type": "code",
   "execution_count": 103,
   "metadata": {},
   "outputs": [
    {
     "data": {
      "text/html": [
       "<div>\n",
       "<style scoped>\n",
       "    .dataframe tbody tr th:only-of-type {\n",
       "        vertical-align: middle;\n",
       "    }\n",
       "\n",
       "    .dataframe tbody tr th {\n",
       "        vertical-align: top;\n",
       "    }\n",
       "\n",
       "    .dataframe thead th {\n",
       "        text-align: right;\n",
       "    }\n",
       "</style>\n",
       "<table border=\"1\" class=\"dataframe\">\n",
       "  <thead>\n",
       "    <tr style=\"text-align: right;\">\n",
       "      <th></th>\n",
       "      <th>neighbourhood_group</th>\n",
       "      <th>neighbourhood</th>\n",
       "      <th>zipcode</th>\n",
       "    </tr>\n",
       "  </thead>\n",
       "  <tbody>\n",
       "    <tr>\n",
       "      <th>0</th>\n",
       "      <td>Bronx</td>\n",
       "      <td>Allerton</td>\n",
       "      <td>10467</td>\n",
       "    </tr>\n",
       "    <tr>\n",
       "      <th>1</th>\n",
       "      <td>Bronx</td>\n",
       "      <td>Baychester</td>\n",
       "      <td>10469</td>\n",
       "    </tr>\n",
       "    <tr>\n",
       "      <th>2</th>\n",
       "      <td>Bronx</td>\n",
       "      <td>Belmont</td>\n",
       "      <td>10457</td>\n",
       "    </tr>\n",
       "    <tr>\n",
       "      <th>3</th>\n",
       "      <td>Bronx</td>\n",
       "      <td>Belmont</td>\n",
       "      <td>10458</td>\n",
       "    </tr>\n",
       "    <tr>\n",
       "      <th>4</th>\n",
       "      <td>Bronx</td>\n",
       "      <td>Bronx Park</td>\n",
       "      <td>10460</td>\n",
       "    </tr>\n",
       "  </tbody>\n",
       "</table>\n",
       "</div>"
      ],
      "text/plain": [
       "  neighbourhood_group neighbourhood  zipcode\n",
       "0               Bronx      Allerton    10467\n",
       "1               Bronx    Baychester    10469\n",
       "2               Bronx       Belmont    10457\n",
       "3               Bronx       Belmont    10458\n",
       "4               Bronx    Bronx Park    10460"
      ]
     },
     "execution_count": 103,
     "metadata": {},
     "output_type": "execute_result"
    }
   ],
   "source": [
    "df_zipcode = pd.read_csv('../data/neighbourhoods.csv')\n",
    "df_zipcode.head()"
   ]
  },
  {
   "cell_type": "code",
   "execution_count": 67,
   "metadata": {},
   "outputs": [
    {
     "data": {
      "text/html": [
       "<div>\n",
       "<style scoped>\n",
       "    .dataframe tbody tr th:only-of-type {\n",
       "        vertical-align: middle;\n",
       "    }\n",
       "\n",
       "    .dataframe tbody tr th {\n",
       "        vertical-align: top;\n",
       "    }\n",
       "\n",
       "    .dataframe thead th {\n",
       "        text-align: right;\n",
       "    }\n",
       "</style>\n",
       "<table border=\"1\" class=\"dataframe\">\n",
       "  <thead>\n",
       "    <tr style=\"text-align: right;\">\n",
       "      <th></th>\n",
       "      <th>PARID</th>\n",
       "      <th>neighbourhood_group</th>\n",
       "      <th>zipcode</th>\n",
       "      <th>neighbourhood</th>\n",
       "    </tr>\n",
       "  </thead>\n",
       "  <tbody>\n",
       "    <tr>\n",
       "      <th>0</th>\n",
       "      <td>1000080039</td>\n",
       "      <td>Manhattan</td>\n",
       "      <td>10004</td>\n",
       "      <td>Financial District</td>\n",
       "    </tr>\n",
       "    <tr>\n",
       "      <th>1</th>\n",
       "      <td>1000080051</td>\n",
       "      <td>Manhattan</td>\n",
       "      <td>10004</td>\n",
       "      <td>Financial District</td>\n",
       "    </tr>\n",
       "    <tr>\n",
       "      <th>2</th>\n",
       "      <td>1000100033</td>\n",
       "      <td>Manhattan</td>\n",
       "      <td>10004</td>\n",
       "      <td>Financial District</td>\n",
       "    </tr>\n",
       "    <tr>\n",
       "      <th>3</th>\n",
       "      <td>1000110029</td>\n",
       "      <td>Manhattan</td>\n",
       "      <td>10004</td>\n",
       "      <td>Financial District</td>\n",
       "    </tr>\n",
       "    <tr>\n",
       "      <th>4</th>\n",
       "      <td>1000161301</td>\n",
       "      <td>Manhattan</td>\n",
       "      <td>10282</td>\n",
       "      <td>Battery Park City</td>\n",
       "    </tr>\n",
       "  </tbody>\n",
       "</table>\n",
       "</div>"
      ],
      "text/plain": [
       "        PARID neighbourhood_group  zipcode       neighbourhood\n",
       "0  1000080039           Manhattan    10004  Financial District\n",
       "1  1000080051           Manhattan    10004  Financial District\n",
       "2  1000100033           Manhattan    10004  Financial District\n",
       "3  1000110029           Manhattan    10004  Financial District\n",
       "4  1000161301           Manhattan    10282   Battery Park City"
      ]
     },
     "execution_count": 67,
     "metadata": {},
     "output_type": "execute_result"
    }
   ],
   "source": [
    "df_zipcode = df_zipcode.groupby(['zipcode','neighbourhood_group']).first().reset_index()\n",
    "df3 = pd.merge(df2, df_zipcode, on=['zipcode','neighbourhood_group'], how='left')\n",
    "df3['neighbourhood'] = df3['neighbourhood'].fillna('.')\n",
    "df3.head()"
   ]
  },
  {
   "cell_type": "code",
   "execution_count": 69,
   "metadata": {},
   "outputs": [
    {
     "data": {
      "text/plain": [
       "(5473, 4)"
      ]
     },
     "execution_count": 69,
     "metadata": {},
     "output_type": "execute_result"
    }
   ],
   "source": [
    "df3.shape"
   ]
  },
  {
   "cell_type": "code",
   "execution_count": 70,
   "metadata": {},
   "outputs": [],
   "source": [
    "# to csv\n",
    "df3.to_csv('../data/Hotel_with_neighbour.csv', index=False)"
   ]
  },
  {
   "cell_type": "code",
   "execution_count": null,
   "metadata": {},
   "outputs": [],
   "source": []
  },
  {
   "cell_type": "code",
   "execution_count": 56,
   "metadata": {},
   "outputs": [
    {
     "data": {
      "text/html": [
       "<div>\n",
       "<style scoped>\n",
       "    .dataframe tbody tr th:only-of-type {\n",
       "        vertical-align: middle;\n",
       "    }\n",
       "\n",
       "    .dataframe tbody tr th {\n",
       "        vertical-align: top;\n",
       "    }\n",
       "\n",
       "    .dataframe thead th {\n",
       "        text-align: right;\n",
       "    }\n",
       "</style>\n",
       "<table border=\"1\" class=\"dataframe\">\n",
       "  <thead>\n",
       "    <tr style=\"text-align: right;\">\n",
       "      <th></th>\n",
       "      <th>id</th>\n",
       "      <th>name</th>\n",
       "      <th>host_id</th>\n",
       "      <th>host_name</th>\n",
       "      <th>neighbourhood</th>\n",
       "      <th>neighbourhood_group</th>\n",
       "      <th>latitude</th>\n",
       "      <th>longitude</th>\n",
       "      <th>price</th>\n",
       "      <th>calculated_host_listings_count</th>\n",
       "      <th>host_listings_neighbourhood_count</th>\n",
       "      <th>host_listings_neighbourhood_group_count</th>\n",
       "      <th>has_fire_alarm</th>\n",
       "      <th>has_co_monitor</th>\n",
       "      <th>airbnb_counts_per_neighbourhood</th>\n",
       "    </tr>\n",
       "  </thead>\n",
       "  <tbody>\n",
       "    <tr>\n",
       "      <th>0</th>\n",
       "      <td>2539</td>\n",
       "      <td>Clean &amp; quiet apt home by the park</td>\n",
       "      <td>2787</td>\n",
       "      <td>John</td>\n",
       "      <td>Kensington</td>\n",
       "      <td>Brooklyn</td>\n",
       "      <td>40.64529</td>\n",
       "      <td>-73.97238</td>\n",
       "      <td>299.0</td>\n",
       "      <td>9</td>\n",
       "      <td>2</td>\n",
       "      <td>9</td>\n",
       "      <td>True</td>\n",
       "      <td>True</td>\n",
       "      <td>117</td>\n",
       "    </tr>\n",
       "    <tr>\n",
       "      <th>1</th>\n",
       "      <td>2595</td>\n",
       "      <td>Skylit Midtown Castle</td>\n",
       "      <td>2845</td>\n",
       "      <td>Jennifer</td>\n",
       "      <td>Midtown</td>\n",
       "      <td>Manhattan</td>\n",
       "      <td>40.75356</td>\n",
       "      <td>-73.98559</td>\n",
       "      <td>175.0</td>\n",
       "      <td>3</td>\n",
       "      <td>1</td>\n",
       "      <td>3</td>\n",
       "      <td>True</td>\n",
       "      <td>True</td>\n",
       "      <td>1701</td>\n",
       "    </tr>\n",
       "    <tr>\n",
       "      <th>2</th>\n",
       "      <td>5121</td>\n",
       "      <td>BlissArtsSpace!</td>\n",
       "      <td>7356</td>\n",
       "      <td>Garon</td>\n",
       "      <td>Bedford-Stuyvesant</td>\n",
       "      <td>Brooklyn</td>\n",
       "      <td>40.68535</td>\n",
       "      <td>-73.95512</td>\n",
       "      <td>60.0</td>\n",
       "      <td>2</td>\n",
       "      <td>2</td>\n",
       "      <td>2</td>\n",
       "      <td>False</td>\n",
       "      <td>False</td>\n",
       "      <td>2779</td>\n",
       "    </tr>\n",
       "    <tr>\n",
       "      <th>3</th>\n",
       "      <td>45910</td>\n",
       "      <td>Beautiful Queens Brownstone! - 5BR</td>\n",
       "      <td>204539</td>\n",
       "      <td>Mark</td>\n",
       "      <td>Ridgewood</td>\n",
       "      <td>Queens</td>\n",
       "      <td>40.70309</td>\n",
       "      <td>-73.89963</td>\n",
       "      <td>425.0</td>\n",
       "      <td>6</td>\n",
       "      <td>3</td>\n",
       "      <td>6</td>\n",
       "      <td>True</td>\n",
       "      <td>True</td>\n",
       "      <td>315</td>\n",
       "    </tr>\n",
       "    <tr>\n",
       "      <th>4</th>\n",
       "      <td>5136</td>\n",
       "      <td>Spacious Brooklyn Duplex, Patio + Garden</td>\n",
       "      <td>7378</td>\n",
       "      <td>Rebecca</td>\n",
       "      <td>Sunset Park</td>\n",
       "      <td>Brooklyn</td>\n",
       "      <td>40.66265</td>\n",
       "      <td>-73.99454</td>\n",
       "      <td>275.0</td>\n",
       "      <td>1</td>\n",
       "      <td>1</td>\n",
       "      <td>1</td>\n",
       "      <td>True</td>\n",
       "      <td>True</td>\n",
       "      <td>297</td>\n",
       "    </tr>\n",
       "  </tbody>\n",
       "</table>\n",
       "</div>"
      ],
      "text/plain": [
       "      id                                      name  host_id host_name  \\\n",
       "0   2539        Clean & quiet apt home by the park     2787      John   \n",
       "1   2595                     Skylit Midtown Castle     2845  Jennifer   \n",
       "2   5121                           BlissArtsSpace!     7356     Garon   \n",
       "3  45910        Beautiful Queens Brownstone! - 5BR   204539      Mark   \n",
       "4   5136  Spacious Brooklyn Duplex, Patio + Garden     7378   Rebecca   \n",
       "\n",
       "        neighbourhood neighbourhood_group  latitude  longitude  price  \\\n",
       "0          Kensington            Brooklyn  40.64529  -73.97238  299.0   \n",
       "1             Midtown           Manhattan  40.75356  -73.98559  175.0   \n",
       "2  Bedford-Stuyvesant            Brooklyn  40.68535  -73.95512   60.0   \n",
       "3           Ridgewood              Queens  40.70309  -73.89963  425.0   \n",
       "4         Sunset Park            Brooklyn  40.66265  -73.99454  275.0   \n",
       "\n",
       "   calculated_host_listings_count  host_listings_neighbourhood_count  \\\n",
       "0                               9                                  2   \n",
       "1                               3                                  1   \n",
       "2                               2                                  2   \n",
       "3                               6                                  3   \n",
       "4                               1                                  1   \n",
       "\n",
       "   host_listings_neighbourhood_group_count  has_fire_alarm  has_co_monitor  \\\n",
       "0                                        9            True            True   \n",
       "1                                        3            True            True   \n",
       "2                                        2           False           False   \n",
       "3                                        6            True            True   \n",
       "4                                        1            True            True   \n",
       "\n",
       "   airbnb_counts_per_neighbourhood  \n",
       "0                              117  \n",
       "1                             1701  \n",
       "2                             2779  \n",
       "3                              315  \n",
       "4                              297  "
      ]
     },
     "execution_count": 56,
     "metadata": {},
     "output_type": "execute_result"
    }
   ],
   "source": [
    "df_airbnb = pd.read_csv('../data/airbnb_open_data_full_clean.csv')\n",
    "df_airbnb['airbnb_counts_per_neighbourhood'] = df_airbnb.groupby('neighbourhood')['neighbourhood'].transform('count')\n",
    "df_airbnb.head()"
   ]
  },
  {
   "cell_type": "code",
   "execution_count": 81,
   "metadata": {},
   "outputs": [
    {
     "data": {
      "text/html": [
       "<div>\n",
       "<style scoped>\n",
       "    .dataframe tbody tr th:only-of-type {\n",
       "        vertical-align: middle;\n",
       "    }\n",
       "\n",
       "    .dataframe tbody tr th {\n",
       "        vertical-align: top;\n",
       "    }\n",
       "\n",
       "    .dataframe thead th {\n",
       "        text-align: right;\n",
       "    }\n",
       "</style>\n",
       "<table border=\"1\" class=\"dataframe\">\n",
       "  <thead>\n",
       "    <tr style=\"text-align: right;\">\n",
       "      <th></th>\n",
       "      <th>neighbourhood</th>\n",
       "      <th>neighbourhood_group</th>\n",
       "      <th>airbnb_counts_per_neighbourhood</th>\n",
       "    </tr>\n",
       "  </thead>\n",
       "  <tbody>\n",
       "    <tr>\n",
       "      <th>0</th>\n",
       "      <td>Fort Wadsworth</td>\n",
       "      <td>Staten Island</td>\n",
       "      <td>1</td>\n",
       "    </tr>\n",
       "    <tr>\n",
       "      <th>1</th>\n",
       "      <td>New Dorp</td>\n",
       "      <td>Staten Island</td>\n",
       "      <td>1</td>\n",
       "    </tr>\n",
       "    <tr>\n",
       "      <th>2</th>\n",
       "      <td>Neponsit</td>\n",
       "      <td>Queens</td>\n",
       "      <td>2</td>\n",
       "    </tr>\n",
       "    <tr>\n",
       "      <th>3</th>\n",
       "      <td>Country Club</td>\n",
       "      <td>Bronx</td>\n",
       "      <td>1</td>\n",
       "    </tr>\n",
       "    <tr>\n",
       "      <th>4</th>\n",
       "      <td>Willowbrook</td>\n",
       "      <td>Staten Island</td>\n",
       "      <td>1</td>\n",
       "    </tr>\n",
       "  </tbody>\n",
       "</table>\n",
       "</div>"
      ],
      "text/plain": [
       "    neighbourhood neighbourhood_group  airbnb_counts_per_neighbourhood\n",
       "0  Fort Wadsworth       Staten Island                                1\n",
       "1        New Dorp       Staten Island                                1\n",
       "2        Neponsit              Queens                                2\n",
       "3    Country Club               Bronx                                1\n",
       "4     Willowbrook       Staten Island                                1"
      ]
     },
     "execution_count": 81,
     "metadata": {},
     "output_type": "execute_result"
    }
   ],
   "source": [
    "df_airbnb_temp = df_airbnb[['neighbourhood', 'neighbourhood_group', 'airbnb_counts_per_neighbourhood']].copy()\n",
    "df_airbnb_temp.drop_duplicates(subset='neighbourhood', keep=\"last\", inplace=True)\n",
    "df_airbnb_temp.reset_index(drop=True, inplace=True)\n",
    "df_airbnb_temp.head()"
   ]
  },
  {
   "cell_type": "code",
   "execution_count": 90,
   "metadata": {},
   "outputs": [
    {
     "data": {
      "text/plain": [
       "(243, 3)"
      ]
     },
     "execution_count": 90,
     "metadata": {},
     "output_type": "execute_result"
    }
   ],
   "source": [
    "df_airbnb_temp.shape"
   ]
  },
  {
   "cell_type": "code",
   "execution_count": 108,
   "metadata": {},
   "outputs": [],
   "source": [
    "# to csv\n",
    "df_airbnb_temp.to_csv('../data/airbnb_counts.csv', index=False)"
   ]
  },
  {
   "cell_type": "markdown",
   "metadata": {},
   "source": [
    "check zipcode"
   ]
  },
  {
   "cell_type": "code",
   "execution_count": 109,
   "metadata": {},
   "outputs": [],
   "source": [
    "df_air_temp = pd.merge(df_airbnb_temp, df_zipcode, on=['neighbourhood_group', 'neighbourhood'], how='outer')\n",
    "df_air_temp['airbnb_counts_per_neighbourhood'] = df_air_temp['airbnb_counts_per_neighbourhood'].fillna(0)"
   ]
  },
  {
   "cell_type": "code",
   "execution_count": 110,
   "metadata": {},
   "outputs": [],
   "source": [
    "# to csv\n",
    "df_air_temp.to_csv('../data/999.csv', index=False)"
   ]
  },
  {
   "cell_type": "code",
   "execution_count": 96,
   "metadata": {},
   "outputs": [
    {
     "data": {
      "text/plain": [
       "neighbourhood                        0\n",
       "neighbourhood_group                  0\n",
       "airbnb_counts_per_neighbourhood      0\n",
       "zipcode                            118\n",
       "dtype: int64"
      ]
     },
     "execution_count": 96,
     "metadata": {},
     "output_type": "execute_result"
    }
   ],
   "source": [
    "df_air_temp.isnull().sum()"
   ]
  },
  {
   "cell_type": "code",
   "execution_count": 71,
   "metadata": {},
   "outputs": [],
   "source": [
    "df4 = pd.read_csv('../data/Hotel_with_neighbour.csv')"
   ]
  },
  {
   "cell_type": "code",
   "execution_count": 72,
   "metadata": {},
   "outputs": [],
   "source": [
    "df4['hotel_counts_per_neighbourhood'] = df4.groupby('neighbourhood')['neighbourhood'].transform('count')"
   ]
  },
  {
   "cell_type": "code",
   "execution_count": 73,
   "metadata": {},
   "outputs": [
    {
     "data": {
      "text/plain": [
       "neighbourhood       hotel_counts_per_neighbourhood\n",
       ".                   196                               196\n",
       "Allerton            6                                   6\n",
       "Arden Heights       6                                   6\n",
       "Arrochar            6                                   6\n",
       "Astoria             138                               138\n",
       "                                                     ... \n",
       "Upper West Side     714                               714\n",
       "Washington Heights  8                                   8\n",
       "Whitestone          2                                   2\n",
       "Williamsburg        12                                 12\n",
       "Woodlawn            9                                   9\n",
       "Length: 95, dtype: int64"
      ]
     },
     "execution_count": 73,
     "metadata": {},
     "output_type": "execute_result"
    }
   ],
   "source": [
    "df4.value_counts(['neighbourhood', 'hotel_counts_per_neighbourhood']).sort_index()"
   ]
  },
  {
   "cell_type": "code",
   "execution_count": 74,
   "metadata": {},
   "outputs": [
    {
     "data": {
      "text/html": [
       "<div>\n",
       "<style scoped>\n",
       "    .dataframe tbody tr th:only-of-type {\n",
       "        vertical-align: middle;\n",
       "    }\n",
       "\n",
       "    .dataframe tbody tr th {\n",
       "        vertical-align: top;\n",
       "    }\n",
       "\n",
       "    .dataframe thead th {\n",
       "        text-align: right;\n",
       "    }\n",
       "</style>\n",
       "<table border=\"1\" class=\"dataframe\">\n",
       "  <thead>\n",
       "    <tr style=\"text-align: right;\">\n",
       "      <th></th>\n",
       "      <th>PARID</th>\n",
       "      <th>neighbourhood_group</th>\n",
       "      <th>zipcode</th>\n",
       "      <th>neighbourhood</th>\n",
       "      <th>hotel_counts_per_neighbourhood</th>\n",
       "    </tr>\n",
       "  </thead>\n",
       "  <tbody>\n",
       "    <tr>\n",
       "      <th>0</th>\n",
       "      <td>1000080039</td>\n",
       "      <td>Manhattan</td>\n",
       "      <td>10004</td>\n",
       "      <td>Financial District</td>\n",
       "      <td>95</td>\n",
       "    </tr>\n",
       "    <tr>\n",
       "      <th>1</th>\n",
       "      <td>1000080051</td>\n",
       "      <td>Manhattan</td>\n",
       "      <td>10004</td>\n",
       "      <td>Financial District</td>\n",
       "      <td>95</td>\n",
       "    </tr>\n",
       "    <tr>\n",
       "      <th>2</th>\n",
       "      <td>1000100033</td>\n",
       "      <td>Manhattan</td>\n",
       "      <td>10004</td>\n",
       "      <td>Financial District</td>\n",
       "      <td>95</td>\n",
       "    </tr>\n",
       "    <tr>\n",
       "      <th>3</th>\n",
       "      <td>1000110029</td>\n",
       "      <td>Manhattan</td>\n",
       "      <td>10004</td>\n",
       "      <td>Financial District</td>\n",
       "      <td>95</td>\n",
       "    </tr>\n",
       "    <tr>\n",
       "      <th>4</th>\n",
       "      <td>1000161301</td>\n",
       "      <td>Manhattan</td>\n",
       "      <td>10282</td>\n",
       "      <td>Battery Park City</td>\n",
       "      <td>2</td>\n",
       "    </tr>\n",
       "  </tbody>\n",
       "</table>\n",
       "</div>"
      ],
      "text/plain": [
       "        PARID neighbourhood_group  zipcode       neighbourhood  \\\n",
       "0  1000080039           Manhattan    10004  Financial District   \n",
       "1  1000080051           Manhattan    10004  Financial District   \n",
       "2  1000100033           Manhattan    10004  Financial District   \n",
       "3  1000110029           Manhattan    10004  Financial District   \n",
       "4  1000161301           Manhattan    10282   Battery Park City   \n",
       "\n",
       "   hotel_counts_per_neighbourhood  \n",
       "0                              95  \n",
       "1                              95  \n",
       "2                              95  \n",
       "3                              95  \n",
       "4                               2  "
      ]
     },
     "execution_count": 74,
     "metadata": {},
     "output_type": "execute_result"
    }
   ],
   "source": [
    "df4.head()"
   ]
  },
  {
   "cell_type": "code",
   "execution_count": 75,
   "metadata": {},
   "outputs": [],
   "source": [
    "# to csv\n",
    "df4.to_csv('../data/Hotel_with_neighbour_counts.csv', index=False)"
   ]
  },
  {
   "cell_type": "code",
   "execution_count": 76,
   "metadata": {},
   "outputs": [],
   "source": [
    "df5 = pd.read_csv('../data/Hotel_with_neighbour_counts.csv')"
   ]
  },
  {
   "cell_type": "code",
   "execution_count": 77,
   "metadata": {},
   "outputs": [
    {
     "data": {
      "text/html": [
       "<div>\n",
       "<style scoped>\n",
       "    .dataframe tbody tr th:only-of-type {\n",
       "        vertical-align: middle;\n",
       "    }\n",
       "\n",
       "    .dataframe tbody tr th {\n",
       "        vertical-align: top;\n",
       "    }\n",
       "\n",
       "    .dataframe thead th {\n",
       "        text-align: right;\n",
       "    }\n",
       "</style>\n",
       "<table border=\"1\" class=\"dataframe\">\n",
       "  <thead>\n",
       "    <tr style=\"text-align: right;\">\n",
       "      <th></th>\n",
       "      <th>neighbourhood</th>\n",
       "      <th>neighbourhood_group</th>\n",
       "      <th>zipcode</th>\n",
       "      <th>hotel_counts_per_neighbourhood</th>\n",
       "    </tr>\n",
       "  </thead>\n",
       "  <tbody>\n",
       "    <tr>\n",
       "      <th>0</th>\n",
       "      <td>Battery Park City</td>\n",
       "      <td>Manhattan</td>\n",
       "      <td>10282</td>\n",
       "      <td>2</td>\n",
       "    </tr>\n",
       "    <tr>\n",
       "      <th>1</th>\n",
       "      <td>Civic Center</td>\n",
       "      <td>Manhattan</td>\n",
       "      <td>10007</td>\n",
       "      <td>8</td>\n",
       "    </tr>\n",
       "    <tr>\n",
       "      <th>2</th>\n",
       "      <td>Chinatown</td>\n",
       "      <td>Manhattan</td>\n",
       "      <td>10013</td>\n",
       "      <td>907</td>\n",
       "    </tr>\n",
       "    <tr>\n",
       "      <th>3</th>\n",
       "      <td>Greenwich Village</td>\n",
       "      <td>Manhattan</td>\n",
       "      <td>10014</td>\n",
       "      <td>48</td>\n",
       "    </tr>\n",
       "    <tr>\n",
       "      <th>4</th>\n",
       "      <td>Chelsea</td>\n",
       "      <td>Manhattan</td>\n",
       "      <td>10001</td>\n",
       "      <td>185</td>\n",
       "    </tr>\n",
       "  </tbody>\n",
       "</table>\n",
       "</div>"
      ],
      "text/plain": [
       "       neighbourhood neighbourhood_group  zipcode  \\\n",
       "0  Battery Park City           Manhattan    10282   \n",
       "1       Civic Center           Manhattan    10007   \n",
       "2          Chinatown           Manhattan    10013   \n",
       "3  Greenwich Village           Manhattan    10014   \n",
       "4            Chelsea           Manhattan    10001   \n",
       "\n",
       "   hotel_counts_per_neighbourhood  \n",
       "0                               2  \n",
       "1                               8  \n",
       "2                             907  \n",
       "3                              48  \n",
       "4                             185  "
      ]
     },
     "execution_count": 77,
     "metadata": {},
     "output_type": "execute_result"
    }
   ],
   "source": [
    "df5 = df5[['neighbourhood', 'neighbourhood_group', 'zipcode', 'hotel_counts_per_neighbourhood']].copy()\n",
    "df5.drop_duplicates(subset='neighbourhood', keep=\"last\", inplace=True)\n",
    "df5.reset_index(drop=True, inplace=True)\n",
    "df5.head()"
   ]
  },
  {
   "cell_type": "markdown",
   "metadata": {},
   "source": [
    "check zipcode"
   ]
  },
  {
   "cell_type": "code",
   "execution_count": 112,
   "metadata": {},
   "outputs": [
    {
     "data": {
      "text/html": [
       "<div>\n",
       "<style scoped>\n",
       "    .dataframe tbody tr th:only-of-type {\n",
       "        vertical-align: middle;\n",
       "    }\n",
       "\n",
       "    .dataframe tbody tr th {\n",
       "        vertical-align: top;\n",
       "    }\n",
       "\n",
       "    .dataframe thead th {\n",
       "        text-align: right;\n",
       "    }\n",
       "</style>\n",
       "<table border=\"1\" class=\"dataframe\">\n",
       "  <thead>\n",
       "    <tr style=\"text-align: right;\">\n",
       "      <th></th>\n",
       "      <th>neighbourhood</th>\n",
       "      <th>neighbourhood_group</th>\n",
       "      <th>airbnb_counts_per_neighbourhood</th>\n",
       "      <th>zipcode</th>\n",
       "      <th>hotel_counts_per_neighbourhood</th>\n",
       "    </tr>\n",
       "  </thead>\n",
       "  <tbody>\n",
       "    <tr>\n",
       "      <th>0</th>\n",
       "      <td>Fort Wadsworth</td>\n",
       "      <td>Staten Island</td>\n",
       "      <td>1.0</td>\n",
       "      <td>10305</td>\n",
       "      <td>NaN</td>\n",
       "    </tr>\n",
       "    <tr>\n",
       "      <th>1</th>\n",
       "      <td>New Dorp</td>\n",
       "      <td>Staten Island</td>\n",
       "      <td>1.0</td>\n",
       "      <td>10306</td>\n",
       "      <td>NaN</td>\n",
       "    </tr>\n",
       "    <tr>\n",
       "      <th>2</th>\n",
       "      <td>Neponsit</td>\n",
       "      <td>Queens</td>\n",
       "      <td>2.0</td>\n",
       "      <td>11694</td>\n",
       "      <td>NaN</td>\n",
       "    </tr>\n",
       "    <tr>\n",
       "      <th>3</th>\n",
       "      <td>Country Club</td>\n",
       "      <td>Bronx</td>\n",
       "      <td>1.0</td>\n",
       "      <td>10465</td>\n",
       "      <td>2.0</td>\n",
       "    </tr>\n",
       "    <tr>\n",
       "      <th>4</th>\n",
       "      <td>Willowbrook</td>\n",
       "      <td>Staten Island</td>\n",
       "      <td>1.0</td>\n",
       "      <td>10314</td>\n",
       "      <td>NaN</td>\n",
       "    </tr>\n",
       "  </tbody>\n",
       "</table>\n",
       "</div>"
      ],
      "text/plain": [
       "    neighbourhood neighbourhood_group  airbnb_counts_per_neighbourhood  \\\n",
       "0  Fort Wadsworth       Staten Island                              1.0   \n",
       "1        New Dorp       Staten Island                              1.0   \n",
       "2        Neponsit              Queens                              2.0   \n",
       "3    Country Club               Bronx                              1.0   \n",
       "4     Willowbrook       Staten Island                              1.0   \n",
       "\n",
       "   zipcode  hotel_counts_per_neighbourhood  \n",
       "0    10305                             NaN  \n",
       "1    10306                             NaN  \n",
       "2    11694                             NaN  \n",
       "3    10465                             2.0  \n",
       "4    10314                             NaN  "
      ]
     },
     "execution_count": 112,
     "metadata": {},
     "output_type": "execute_result"
    }
   ],
   "source": [
    "df6 = df_air_temp.merge(df5, on=['neighbourhood_group', 'neighbourhood', 'zipcode'], how='outer')\n",
    "df6.head()"
   ]
  },
  {
   "cell_type": "code",
   "execution_count": 113,
   "metadata": {},
   "outputs": [],
   "source": [
    "df6['hotel_counts_per_neighbourhood'] = df6['hotel_counts_per_neighbourhood'].fillna(0)\n",
    "df6['airbnb_counts_per_neighbourhood'] = df6['airbnb_counts_per_neighbourhood'].fillna(0)"
   ]
  },
  {
   "cell_type": "code",
   "execution_count": 114,
   "metadata": {},
   "outputs": [
    {
     "data": {
      "text/plain": [
       "neighbourhood                      0\n",
       "neighbourhood_group                0\n",
       "airbnb_counts_per_neighbourhood    0\n",
       "zipcode                            0\n",
       "hotel_counts_per_neighbourhood     0\n",
       "dtype: int64"
      ]
     },
     "execution_count": 114,
     "metadata": {},
     "output_type": "execute_result"
    }
   ],
   "source": [
    "df6.isnull().sum()"
   ]
  },
  {
   "cell_type": "code",
   "execution_count": 115,
   "metadata": {},
   "outputs": [],
   "source": [
    "df6.to_csv('../data/Hotel_with_neighbour_counts_Airbnb.csv', index=False)"
   ]
  }
 ],
 "metadata": {
  "kernelspec": {
   "display_name": "Python 3.9.13 ('base')",
   "language": "python",
   "name": "python3"
  },
  "language_info": {
   "codemirror_mode": {
    "name": "ipython",
    "version": 3
   },
   "file_extension": ".py",
   "mimetype": "text/x-python",
   "name": "python",
   "nbconvert_exporter": "python",
   "pygments_lexer": "ipython3",
   "version": "3.9.13"
  },
  "orig_nbformat": 4,
  "vscode": {
   "interpreter": {
    "hash": "ad2bdc8ecc057115af97d19610ffacc2b4e99fae6737bb82f5d7fb13d2f2c186"
   }
  }
 },
 "nbformat": 4,
 "nbformat_minor": 2
}
