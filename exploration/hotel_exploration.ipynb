{
 "cells": [
  {
   "cell_type": "markdown",
   "metadata": {},
   "source": [
    "Compare the distribution of Airbnbs and other traditional accommodation types such as hotels."
   ]
  },
  {
   "cell_type": "markdown",
   "metadata": {},
   "source": [
    "data source: https://data.cityofnewyork.us/City-Government/Hotels-Properties-Citywide/tjus-cn27"
   ]
  },
  {
   "cell_type": "code",
   "execution_count": null,
   "metadata": {},
   "outputs": [],
   "source": [
    "import warnings\n",
    "warnings.filterwarnings('ignore')\n",
    "import pandas as pd\n",
    "import numpy as np\n",
    "import seaborn as sns\n",
    "import matplotlib.pyplot as plt\n",
    "import sys\n",
    "%matplotlib inline"
   ]
  },
  {
   "cell_type": "code",
   "execution_count": null,
   "metadata": {},
   "outputs": [],
   "source": [
    "df_hotel = pd.read_csv('../data/Hotels_Properties_Citywide.csv')"
   ]
  },
  {
   "cell_type": "code",
   "execution_count": null,
   "metadata": {},
   "outputs": [],
   "source": [
    "df_hotel.columns"
   ]
  },
  {
   "cell_type": "markdown",
   "metadata": {},
   "source": [
    "Description for columns:  \n",
    "\n",
    "'PARID': No description, Doesn't seem important  \n",
    "\n",
    "'BOROCODE': Don't need it because of 'Borough'  \n",
    "\n",
    "'BLOCK': Borough, Block, and Lot (BBL) is the parcel number system used to identify each unit of real estate in New York City for numerous city purposes. It consists of three numbers, separated by slashes; the borough, which is 1 digit; the block number, which is up to 5 digits; and the lot number, which is up to 4 digits.  \n",
    "\n",
    "'LOT'  \n",
    "\n",
    "'TAXYEAR': An annual accounting period for keeping records and reporting income and expenses. We're not investigating tax, so don't need it\n",
    "\n",
    "'STREET NUMBER'\n",
    "'STREET NAME'\n",
    "'Postcode'\n",
    "\n",
    "'BLDG_CLASS': Building class (Use and Occupancy classification: https://igpny.com/wp-content/uploads/2019/05/NYC-DOB-Building-Code-Chapter-3-Use-and-Occupancy-Classification.pdf). I don't think we need it.\n",
    "\n",
    "'TAXCLASS': We're not interested in tax here\n",
    "\n",
    "'OWNER_NAME': Do we wanna check if owner of Airbnb and hotels is the same?\n",
    "\n",
    "'Borough': We need it\n",
    "\n",
    "'Latitude': We need it\n",
    "\n",
    "'Longitude': We need it\n",
    "\n",
    "'Community Board': Membership - Community Boards are local representative bodies. There are 59 throughout the city. Each Board consists of up to 50 unsalaried members appointed by the Borough President, with half nominated by the City Council Members who represent the community district.\n",
    "Are we interested in if airbnbs are nearby the community board? \n",
    "\n",
    "'Council District': Council District means any of four political subdivisions within the City by which City Council members are elected.\n",
    "Are we interested in if airbnbs are nearby the community board? \n",
    "\n",
    "'Census Tract',\n",
    "'BIN': Building Identification Number. Don't think we need this.\n",
    "\n",
    "'BBL': Borough, Block, Lot\n",
    "\n",
    "'NTA': Neighborhood Tabulation Areas; created by the NYC Dept of Planning by aggregating census tracts into 195 neighborhood-like areas.\n",
    "Maybe interesting? Because it's neighborhood like areas.\n"
   ]
  },
  {
   "cell_type": "markdown",
   "metadata": {},
   "source": [
    "Questions: Do we need BBL, Street number/name, Postcode?  \n",
    "I think only for a geographic use, borough, latitue, longitude are enough? "
   ]
  },
  {
   "cell_type": "code",
   "execution_count": null,
   "metadata": {},
   "outputs": [],
   "source": [
    "df_hotel.head()"
   ]
  },
  {
   "cell_type": "code",
   "execution_count": null,
   "metadata": {},
   "outputs": [],
   "source": [
    "# check the data size\n",
    "print(df_hotel.info())\n",
    "print(df_hotel.describe())\n",
    "print('Data`s Shape: ', df_hotel.shape)\n",
    "print('\\nType of features \\n', df_hotel.dtypes.value_counts())\n",
    "isnull_series = df_hotel.isnull().sum()\n",
    "isna_series = df_hotel.isna().sum()\n",
    "print('\\nNull columns and numbers:\\n ', isnull_series[isnull_series > 0].sort_values(ascending=False))"
   ]
  },
  {
   "cell_type": "code",
   "execution_count": null,
   "metadata": {},
   "outputs": [],
   "source": [
    "df_hotel.value_counts(['Borough']).sort_index()"
   ]
  },
  {
   "cell_type": "code",
   "execution_count": null,
   "metadata": {},
   "outputs": [],
   "source": [
    "df_hotel.value_counts(['NTA']).sort_index()"
   ]
  },
  {
   "cell_type": "markdown",
   "metadata": {},
   "source": [
    "In the end we're just using borough, latitue, longitude\n",
    "\n"
   ]
  },
  {
   "cell_type": "code",
   "execution_count": null,
   "metadata": {},
   "outputs": [],
   "source": [
    "# drop all rows with any NaN and NaT values\n",
    "df_hotel_clean = df_hotel.dropna(inplace=False)"
   ]
  },
  {
   "cell_type": "code",
   "execution_count": null,
   "metadata": {},
   "outputs": [],
   "source": [
    "df_hotel_clean.head()"
   ]
  },
  {
   "cell_type": "code",
   "execution_count": null,
   "metadata": {},
   "outputs": [],
   "source": [
    "isnull_series = df_hotel_clean.isnull().sum()\n",
    "isna_series = df_hotel_clean.isna().sum()\n",
    "print(isnull_series, isna_series)"
   ]
  },
  {
   "cell_type": "code",
   "execution_count": null,
   "metadata": {},
   "outputs": [],
   "source": []
  },
  {
   "cell_type": "code",
   "execution_count": null,
   "metadata": {},
   "outputs": [],
   "source": [
    "df_hotel_clean_2 = df_hotel_clean[[\"PARID\", \"Borough\", \"Latitude\", \"Longitude\"]]\n",
    "df_hotel_clean_2.head()"
   ]
  },
  {
   "cell_type": "code",
   "execution_count": null,
   "metadata": {},
   "outputs": [],
   "source": [
    "print(df_hotel_clean_2.info())\n",
    "print(df_hotel_clean_2.describe())\n",
    "print('Data`s Shape: ', df_hotel_clean_2.shape)\n",
    "print('\\nType of features \\n', df_hotel_clean_2.dtypes.value_counts())"
   ]
  },
  {
   "cell_type": "code",
   "execution_count": null,
   "metadata": {},
   "outputs": [],
   "source": [
    "df_hotel_clean_2['Borough'] = df_hotel_clean_2['Borough'].replace(['1', '2', '3', '4', '5'], \n",
    "['Manhattan', 'Bronx', 'Brooklyn', 'Queens', 'Staten Island'])\n",
    "df_hotel_clean_2.head()"
   ]
  },
  {
   "cell_type": "code",
   "execution_count": null,
   "metadata": {},
   "outputs": [],
   "source": [
    "df_hotel_clean_2['Borough'] = df_hotel_clean_2['Borough'].replace(['MANHATTAN', 'BRONX', 'BROOKLYN', 'QUEENS', 'STATEN IS'], \n",
    "['Manhattan', 'Bronx', 'Brooklyn', 'Queens', 'Staten Island'])\n",
    "df_hotel_clean_2.head()\n",
    "# df_hotel_clean_2.to_csv('../data/Hotels_clean.csv')"
   ]
  },
  {
   "cell_type": "code",
   "execution_count": null,
   "metadata": {},
   "outputs": [],
   "source": [
    "df_hotel_clean_2.value_counts(['Borough']).sort_index()"
   ]
  },
  {
   "cell_type": "code",
   "execution_count": null,
   "metadata": {},
   "outputs": [],
   "source": [
    "df_hotel_sorted = df_hotel_clean_2.sort_values(by=['Borough'], inplace=False)\n",
    "df_hotel_sorted1 = df_hotel_sorted.rename({'PARID': 'parid', 'Borough': 'neighbourhood group', 'Latitude': 'latitude', 'Longitude':'longitude'}, axis=1)\n"
   ]
  },
  {
   "cell_type": "code",
   "execution_count": null,
   "metadata": {},
   "outputs": [],
   "source": [
    "# Is df_hotel_sorted1's parid unique?\n",
    "df_hotel_sorted1.parid.nunique() == df_hotel_sorted1.shape[0]"
   ]
  },
  {
   "cell_type": "code",
   "execution_count": null,
   "metadata": {},
   "outputs": [],
   "source": [
    "df_hotel_sorted1['hotel_counts_per_neighbourhood_group'] = df_hotel_sorted1.groupby('neighbourhood group')['neighbourhood group'].transform('count')"
   ]
  },
  {
   "cell_type": "code",
   "execution_count": null,
   "metadata": {},
   "outputs": [],
   "source": [
    "df_hotel_sorted1.head()"
   ]
  },
  {
   "cell_type": "code",
   "execution_count": null,
   "metadata": {},
   "outputs": [],
   "source": [
    "df_hotel_sorted1.value_counts(['neighbourhood group']).sort_index()"
   ]
  },
  {
   "cell_type": "code",
   "execution_count": null,
   "metadata": {},
   "outputs": [],
   "source": [
    "df_hotel_sorted1.value_counts(['parid']).sort_index()"
   ]
  },
  {
   "cell_type": "code",
   "execution_count": null,
   "metadata": {},
   "outputs": [],
   "source": [
    "df_hotel_sorted1.reset_index(drop=True, inplace=True)\n",
    "df_hotel_sorted1.head()"
   ]
  },
  {
   "cell_type": "code",
   "execution_count": null,
   "metadata": {},
   "outputs": [],
   "source": [
    "df_hotel_sorted1 = df_hotel_sorted1.rename({'neighbourhood group': 'neighbourhood_group'}, axis=1)"
   ]
  },
  {
   "cell_type": "code",
   "execution_count": null,
   "metadata": {},
   "outputs": [],
   "source": [
    "df_hotel_sorted1['latitude'] = df_hotel_sorted1['latitude'].round(5)\n",
    "df_hotel_sorted1['longitude'] = df_hotel_sorted1['longitude'].round(5)\n",
    "df_hotel_sorted1.head()"
   ]
  },
  {
   "cell_type": "code",
   "execution_count": null,
   "metadata": {},
   "outputs": [],
   "source": [
    "df_hotel_sorted1.to_csv('../data/Hotels_clean_sorted.csv', index = False)"
   ]
  },
  {
   "cell_type": "markdown",
   "metadata": {},
   "source": [
    "Add a column that counts a number of airbnbs per neighbourhood_group"
   ]
  },
  {
   "cell_type": "code",
   "execution_count": null,
   "metadata": {},
   "outputs": [],
   "source": [
    "df_airbnb = pd.read_csv('../data/airbnb_open_data_full_clean.csv')\n",
    "df_airbnb.value_counts(['neighbourhood_group']).sort_index()"
   ]
  },
  {
   "cell_type": "code",
   "execution_count": null,
   "metadata": {},
   "outputs": [],
   "source": [
    "df_airbnb['airbnb_counts_per_neighbourhood_group'] = df_airbnb.groupby('neighbourhood_group')['neighbourhood_group'].transform('count')\n",
    "df_airbnb.head()"
   ]
  },
  {
   "cell_type": "markdown",
   "metadata": {},
   "source": [
    "Merging Airbnb and Hotel\n",
    "\n",
    "    merging based on latitude, longitude does not work (Just tried it to see if I can implement in another way)"
   ]
  },
  {
   "cell_type": "code",
   "execution_count": null,
   "metadata": {},
   "outputs": [],
   "source": [
    "df_hotel_temp = df_hotel_sorted1[['neighbourhood_group', 'hotel_counts_per_neighbourhood_group']].copy()\n",
    "\n",
    "df_hotel_temp.drop_duplicates(subset='neighbourhood_group', keep=\"last\", inplace=True)\n",
    "\n",
    "df_hotel_temp.reset_index(drop=True, inplace=True)\n",
    "df_hotel_temp.head()"
   ]
  },
  {
   "cell_type": "code",
   "execution_count": null,
   "metadata": {},
   "outputs": [],
   "source": [
    "df_airbnb_temp = df_airbnb[['neighbourhood_group', 'airbnb_counts_per_neighbourhood_group']].copy()\n",
    "\n",
    "df_airbnb_temp.drop_duplicates(subset='neighbourhood_group', keep=\"last\", inplace=True)\n",
    "\n",
    "df_airbnb_temp.reset_index(drop=True, inplace=True)\n",
    "df_airbnb_temp.head()"
   ]
  },
  {
   "cell_type": "code",
   "execution_count": null,
   "metadata": {},
   "outputs": [],
   "source": [
    "df_hotel_airbnb = pd.merge(df_hotel_temp, df_airbnb_temp, on='neighbourhood_group', how='outer')\n",
    "df_hotel_airbnb.head()"
   ]
  },
  {
   "cell_type": "code",
   "execution_count": null,
   "metadata": {},
   "outputs": [],
   "source": [
    "df_hotel_airbnb.to_csv('../data/Hotels_Airbnbs_merged.csv', index = False)"
   ]
  }
 ],
 "metadata": {
  "kernelspec": {
   "display_name": "Python 3.8.10 64-bit (microsoft store)",
   "language": "python",
   "name": "python3"
  },
  "language_info": {
   "codemirror_mode": {
    "name": "ipython",
    "version": 3
   },
   "file_extension": ".py",
   "mimetype": "text/x-python",
   "name": "python",
   "nbconvert_exporter": "python",
   "pygments_lexer": "ipython3",
   "version": "3.8.10"
  },
  "orig_nbformat": 4,
  "vscode": {
   "interpreter": {
    "hash": "b61bfd2bd764dadfc4568af7d135f9a60845ab0cedd34c9047fe795082c020fc"
   }
  }
 },
 "nbformat": 4,
 "nbformat_minor": 2
}
