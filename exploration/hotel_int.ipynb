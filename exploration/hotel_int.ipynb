{
 "cells": [
  {
   "cell_type": "code",
   "execution_count": 1,
   "metadata": {},
   "outputs": [],
   "source": [
    "import warnings\n",
    "warnings.filterwarnings('ignore')\n",
    "import pandas as pd\n",
    "import numpy as np\n"
   ]
  },
  {
   "cell_type": "code",
   "execution_count": 5,
   "metadata": {},
   "outputs": [
    {
     "data": {
      "text/html": [
       "<div>\n",
       "<style scoped>\n",
       "    .dataframe tbody tr th:only-of-type {\n",
       "        vertical-align: middle;\n",
       "    }\n",
       "\n",
       "    .dataframe tbody tr th {\n",
       "        vertical-align: top;\n",
       "    }\n",
       "\n",
       "    .dataframe thead th {\n",
       "        text-align: right;\n",
       "    }\n",
       "</style>\n",
       "<table border=\"1\" class=\"dataframe\">\n",
       "  <thead>\n",
       "    <tr style=\"text-align: right;\">\n",
       "      <th></th>\n",
       "      <th>neighbourhood</th>\n",
       "      <th>neighbourhood_group</th>\n",
       "      <th>airbnb_counts_per_neighbourhood</th>\n",
       "      <th>zipcode</th>\n",
       "      <th>hotel_counts_per_neighbourhood</th>\n",
       "    </tr>\n",
       "  </thead>\n",
       "  <tbody>\n",
       "    <tr>\n",
       "      <th>0</th>\n",
       "      <td>Fort Wadsworth</td>\n",
       "      <td>Staten Island</td>\n",
       "      <td>1.0</td>\n",
       "      <td>10305</td>\n",
       "      <td>0.0</td>\n",
       "    </tr>\n",
       "    <tr>\n",
       "      <th>1</th>\n",
       "      <td>New Dorp</td>\n",
       "      <td>Staten Island</td>\n",
       "      <td>1.0</td>\n",
       "      <td>10306</td>\n",
       "      <td>0.0</td>\n",
       "    </tr>\n",
       "    <tr>\n",
       "      <th>2</th>\n",
       "      <td>Neponsit</td>\n",
       "      <td>Queens</td>\n",
       "      <td>2.0</td>\n",
       "      <td>11694</td>\n",
       "      <td>0.0</td>\n",
       "    </tr>\n",
       "    <tr>\n",
       "      <th>3</th>\n",
       "      <td>Country Club</td>\n",
       "      <td>Bronx</td>\n",
       "      <td>1.0</td>\n",
       "      <td>10465</td>\n",
       "      <td>2.0</td>\n",
       "    </tr>\n",
       "    <tr>\n",
       "      <th>4</th>\n",
       "      <td>Willowbrook</td>\n",
       "      <td>Staten Island</td>\n",
       "      <td>1.0</td>\n",
       "      <td>10314</td>\n",
       "      <td>0.0</td>\n",
       "    </tr>\n",
       "  </tbody>\n",
       "</table>\n",
       "</div>"
      ],
      "text/plain": [
       "    neighbourhood neighbourhood_group  airbnb_counts_per_neighbourhood  \\\n",
       "0  Fort Wadsworth       Staten Island                              1.0   \n",
       "1        New Dorp       Staten Island                              1.0   \n",
       "2        Neponsit              Queens                              2.0   \n",
       "3    Country Club               Bronx                              1.0   \n",
       "4     Willowbrook       Staten Island                              1.0   \n",
       "\n",
       "   zipcode  hotel_counts_per_neighbourhood  \n",
       "0    10305                             0.0  \n",
       "1    10306                             0.0  \n",
       "2    11694                             0.0  \n",
       "3    10465                             2.0  \n",
       "4    10314                             0.0  "
      ]
     },
     "execution_count": 5,
     "metadata": {},
     "output_type": "execute_result"
    }
   ],
   "source": [
    "df7 = pd.read_csv('../data/Hotel_with_neighbour_counts_Airbnb.csv')\n",
    "df7.head()"
   ]
  },
  {
   "cell_type": "code",
   "execution_count": 6,
   "metadata": {},
   "outputs": [],
   "source": [
    "df7['hotel_counts_per_neighbourhood'] = df7['hotel_counts_per_neighbourhood'].astype(int)\n",
    "df7['airbnb_counts_per_neighbourhood'] = df7['airbnb_counts_per_neighbourhood'].astype(int)"
   ]
  },
  {
   "cell_type": "code",
   "execution_count": 7,
   "metadata": {},
   "outputs": [
    {
     "data": {
      "text/html": [
       "<div>\n",
       "<style scoped>\n",
       "    .dataframe tbody tr th:only-of-type {\n",
       "        vertical-align: middle;\n",
       "    }\n",
       "\n",
       "    .dataframe tbody tr th {\n",
       "        vertical-align: top;\n",
       "    }\n",
       "\n",
       "    .dataframe thead th {\n",
       "        text-align: right;\n",
       "    }\n",
       "</style>\n",
       "<table border=\"1\" class=\"dataframe\">\n",
       "  <thead>\n",
       "    <tr style=\"text-align: right;\">\n",
       "      <th></th>\n",
       "      <th>neighbourhood</th>\n",
       "      <th>neighbourhood_group</th>\n",
       "      <th>airbnb_counts_per_neighbourhood</th>\n",
       "      <th>zipcode</th>\n",
       "      <th>hotel_counts_per_neighbourhood</th>\n",
       "    </tr>\n",
       "  </thead>\n",
       "  <tbody>\n",
       "    <tr>\n",
       "      <th>0</th>\n",
       "      <td>Fort Wadsworth</td>\n",
       "      <td>Staten Island</td>\n",
       "      <td>1</td>\n",
       "      <td>10305</td>\n",
       "      <td>0</td>\n",
       "    </tr>\n",
       "    <tr>\n",
       "      <th>1</th>\n",
       "      <td>New Dorp</td>\n",
       "      <td>Staten Island</td>\n",
       "      <td>1</td>\n",
       "      <td>10306</td>\n",
       "      <td>0</td>\n",
       "    </tr>\n",
       "    <tr>\n",
       "      <th>2</th>\n",
       "      <td>Neponsit</td>\n",
       "      <td>Queens</td>\n",
       "      <td>2</td>\n",
       "      <td>11694</td>\n",
       "      <td>0</td>\n",
       "    </tr>\n",
       "    <tr>\n",
       "      <th>3</th>\n",
       "      <td>Country Club</td>\n",
       "      <td>Bronx</td>\n",
       "      <td>1</td>\n",
       "      <td>10465</td>\n",
       "      <td>2</td>\n",
       "    </tr>\n",
       "    <tr>\n",
       "      <th>4</th>\n",
       "      <td>Willowbrook</td>\n",
       "      <td>Staten Island</td>\n",
       "      <td>1</td>\n",
       "      <td>10314</td>\n",
       "      <td>0</td>\n",
       "    </tr>\n",
       "  </tbody>\n",
       "</table>\n",
       "</div>"
      ],
      "text/plain": [
       "    neighbourhood neighbourhood_group  airbnb_counts_per_neighbourhood  \\\n",
       "0  Fort Wadsworth       Staten Island                                1   \n",
       "1        New Dorp       Staten Island                                1   \n",
       "2        Neponsit              Queens                                2   \n",
       "3    Country Club               Bronx                                1   \n",
       "4     Willowbrook       Staten Island                                1   \n",
       "\n",
       "   zipcode  hotel_counts_per_neighbourhood  \n",
       "0    10305                               0  \n",
       "1    10306                               0  \n",
       "2    11694                               0  \n",
       "3    10465                               2  \n",
       "4    10314                               0  "
      ]
     },
     "execution_count": 7,
     "metadata": {},
     "output_type": "execute_result"
    }
   ],
   "source": [
    "df7.head()"
   ]
  },
  {
   "cell_type": "code",
   "execution_count": 8,
   "metadata": {},
   "outputs": [],
   "source": [
    "df7.to_csv('../data/Hotel_final.csv', index=False)"
   ]
  }
 ],
 "metadata": {
  "kernelspec": {
   "display_name": "Python 3.9.13 ('base')",
   "language": "python",
   "name": "python3"
  },
  "language_info": {
   "codemirror_mode": {
    "name": "ipython",
    "version": 3
   },
   "file_extension": ".py",
   "mimetype": "text/x-python",
   "name": "python",
   "nbconvert_exporter": "python",
   "pygments_lexer": "ipython3",
   "version": "3.9.13"
  },
  "orig_nbformat": 4,
  "vscode": {
   "interpreter": {
    "hash": "ad2bdc8ecc057115af97d19610ffacc2b4e99fae6737bb82f5d7fb13d2f2c186"
   }
  }
 },
 "nbformat": 4,
 "nbformat_minor": 2
}
